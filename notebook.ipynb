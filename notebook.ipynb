{
 "cells": [
  {
   "cell_type": "code",
   "execution_count": 1,
   "outputs": [],
   "source": [
    "import pandas as pd\n",
    "from collections import Counter\n",
    "import re\n",
    "import matplotlib.pyplot as plt\n",
    "import numpy as np\n",
    "\n",
    "plt.rcParams['font.sans-serif'] = ['SimHei']\n",
    "plt.rcParams['axes.unicode_minus'] = False\n",
    "\n",
    "comp_color = {\n",
    "    '魔坦刺': '#858561',\n",
    "    '扶桑法刺': '#9e71ad',\n",
    "    '扶桑群雄刺': '#968795',\n",
    "    '扶桑群雄法刺': '#6603fc',\n",
    "    '扶桑刺': '#6603fc',\n",
    "    '魔种': '#a35956',\n",
    "    '扶桑男刺': '#bfae91',\n",
    "    '扶桑法': '#8000ff',\n",
    "\n",
    "    '七射': '#14ffa5',\n",
    "    '攻辅射': '#42d7f5',\n",
    "    '弟弟射': '#fceb30',\n",
    "    '攻辅蛋': '#ffac1c',\n",
    "\n",
    "    '九战': '#ff0000',\n",
    "    '稷下战': '#ff5e5e',\n",
    "    '轻战守约': '#ff8e5e',\n",
    "    '魏战': '#ff0084',\n",
    "\n",
    "    '蜀国': '#00cc18',\n",
    "\n",
    "    '法奶': '#0093f5',\n",
    "    '弟妹法': '#7900fa',\n",
    "    '坦法': '#ff5900'\n",
    "    }\n",
    "\n",
    "comp_to_brief = {\n",
    "    '扶桑法刺': '扶桑刺',\n",
    "    '扶桑群雄刺': '扶桑刺',\n",
    "    '扶桑群雄法刺': '扶桑刺',\n",
    "    '扶桑男刺': '扶桑刺',\n",
    "    '魔种(无天赋)' :'魔种',\n",
    "    '魔种(有天赋)' :'魔种',\n",
    "    '封神攻辅射': '攻辅射',\n",
    "    '吴国攻辅射': '攻辅射',\n",
    "    '稷下攻辅射': '攻辅射',\n",
    "    '尧天攻辅射': '攻辅射'\n",
    "}\n",
    "\n",
    "rank_to_score = [12, 9, 7, 5, 3, 2, 1, 0]\n",
    "\n",
    "class Config:\n",
    "    use_brief_comp = True\n",
    "\n",
    "pd.set_option('display.max_columns', None)"
   ],
   "metadata": {
    "collapsed": false,
    "pycharm": {
     "name": "#%%\n"
    }
   }
  },
  {
   "cell_type": "code",
   "execution_count": 2,
   "outputs": [
    {
     "data": {
      "text/plain": "   排名    俱乐部  选手 ban位   阵容   质量   输出   胜   负  周数   分组  局数  游戏版本  分数   详细阵容  \\\n0   1    TES  阿虾    稷  魔坦刺  146  161  20   9   3  低分组   1  21-0  12    魔坦刺   \n1   2  RNG.M  俊仔    稷  扶桑刺   80  168  20   9   3  低分组   1  21-0   9   扶桑法刺   \n2   3     VG  婷婷    卫  扶桑刺   71  115  17  11   3  低分组   1  21-0   7  扶桑群雄刺   \n\n   回合数  \n0   29  \n1   29  \n2   28  ",
      "text/html": "<div>\n<style scoped>\n    .dataframe tbody tr th:only-of-type {\n        vertical-align: middle;\n    }\n\n    .dataframe tbody tr th {\n        vertical-align: top;\n    }\n\n    .dataframe thead th {\n        text-align: right;\n    }\n</style>\n<table border=\"1\" class=\"dataframe\">\n  <thead>\n    <tr style=\"text-align: right;\">\n      <th></th>\n      <th>排名</th>\n      <th>俱乐部</th>\n      <th>选手</th>\n      <th>ban位</th>\n      <th>阵容</th>\n      <th>质量</th>\n      <th>输出</th>\n      <th>胜</th>\n      <th>负</th>\n      <th>周数</th>\n      <th>分组</th>\n      <th>局数</th>\n      <th>游戏版本</th>\n      <th>分数</th>\n      <th>详细阵容</th>\n      <th>回合数</th>\n    </tr>\n  </thead>\n  <tbody>\n    <tr>\n      <th>0</th>\n      <td>1</td>\n      <td>TES</td>\n      <td>阿虾</td>\n      <td>稷</td>\n      <td>魔坦刺</td>\n      <td>146</td>\n      <td>161</td>\n      <td>20</td>\n      <td>9</td>\n      <td>3</td>\n      <td>低分组</td>\n      <td>1</td>\n      <td>21-0</td>\n      <td>12</td>\n      <td>魔坦刺</td>\n      <td>29</td>\n    </tr>\n    <tr>\n      <th>1</th>\n      <td>2</td>\n      <td>RNG.M</td>\n      <td>俊仔</td>\n      <td>稷</td>\n      <td>扶桑刺</td>\n      <td>80</td>\n      <td>168</td>\n      <td>20</td>\n      <td>9</td>\n      <td>3</td>\n      <td>低分组</td>\n      <td>1</td>\n      <td>21-0</td>\n      <td>9</td>\n      <td>扶桑法刺</td>\n      <td>29</td>\n    </tr>\n    <tr>\n      <th>2</th>\n      <td>3</td>\n      <td>VG</td>\n      <td>婷婷</td>\n      <td>卫</td>\n      <td>扶桑刺</td>\n      <td>71</td>\n      <td>115</td>\n      <td>17</td>\n      <td>11</td>\n      <td>3</td>\n      <td>低分组</td>\n      <td>1</td>\n      <td>21-0</td>\n      <td>7</td>\n      <td>扶桑群雄刺</td>\n      <td>28</td>\n    </tr>\n  </tbody>\n</table>\n</div>"
     },
     "metadata": {},
     "output_type": "display_data"
    },
    {
     "data": {
      "text/plain": "     排名   俱乐部    选手 ban位  阵容  质量  输出   胜   负  周数   分组  局数  游戏版本  分数     详细阵容  \\\n237   6  KSSC    叶凡    安  蜀国  57  90  13  11   4  高分组   5  21-0   2       蜀国   \n238   7    CW    九戒    稷  魔种  49  62  10   9   4  高分组   5  21-0   1  魔种(有天赋)   \n239   8    MQ  暴躁黑猪    吴  魔种  33  34  10   8   4  高分组   5  21-0   0  魔种(无天赋)   \n\n     回合数  \n237   24  \n238   19  \n239   18  ",
      "text/html": "<div>\n<style scoped>\n    .dataframe tbody tr th:only-of-type {\n        vertical-align: middle;\n    }\n\n    .dataframe tbody tr th {\n        vertical-align: top;\n    }\n\n    .dataframe thead th {\n        text-align: right;\n    }\n</style>\n<table border=\"1\" class=\"dataframe\">\n  <thead>\n    <tr style=\"text-align: right;\">\n      <th></th>\n      <th>排名</th>\n      <th>俱乐部</th>\n      <th>选手</th>\n      <th>ban位</th>\n      <th>阵容</th>\n      <th>质量</th>\n      <th>输出</th>\n      <th>胜</th>\n      <th>负</th>\n      <th>周数</th>\n      <th>分组</th>\n      <th>局数</th>\n      <th>游戏版本</th>\n      <th>分数</th>\n      <th>详细阵容</th>\n      <th>回合数</th>\n    </tr>\n  </thead>\n  <tbody>\n    <tr>\n      <th>237</th>\n      <td>6</td>\n      <td>KSSC</td>\n      <td>叶凡</td>\n      <td>安</td>\n      <td>蜀国</td>\n      <td>57</td>\n      <td>90</td>\n      <td>13</td>\n      <td>11</td>\n      <td>4</td>\n      <td>高分组</td>\n      <td>5</td>\n      <td>21-0</td>\n      <td>2</td>\n      <td>蜀国</td>\n      <td>24</td>\n    </tr>\n    <tr>\n      <th>238</th>\n      <td>7</td>\n      <td>CW</td>\n      <td>九戒</td>\n      <td>稷</td>\n      <td>魔种</td>\n      <td>49</td>\n      <td>62</td>\n      <td>10</td>\n      <td>9</td>\n      <td>4</td>\n      <td>高分组</td>\n      <td>5</td>\n      <td>21-0</td>\n      <td>1</td>\n      <td>魔种(有天赋)</td>\n      <td>19</td>\n    </tr>\n    <tr>\n      <th>239</th>\n      <td>8</td>\n      <td>MQ</td>\n      <td>暴躁黑猪</td>\n      <td>吴</td>\n      <td>魔种</td>\n      <td>33</td>\n      <td>34</td>\n      <td>10</td>\n      <td>8</td>\n      <td>4</td>\n      <td>高分组</td>\n      <td>5</td>\n      <td>21-0</td>\n      <td>0</td>\n      <td>魔种(无天赋)</td>\n      <td>18</td>\n    </tr>\n  </tbody>\n</table>\n</div>"
     },
     "metadata": {},
     "output_type": "display_data"
    }
   ],
   "source": [
    "def preprocess_data(df):\n",
    "    df['分数'] = df['排名'].apply(lambda x: rank_to_score[x - 1])\n",
    "    if Config.use_brief_comp:\n",
    "        df['详细阵容'] = df['阵容']\n",
    "        df['阵容'] = df['详细阵容'].apply(lambda x: comp_to_brief.get(x, x))\n",
    "    df['回合数'] = df['胜'] + df['负']\n",
    "    return df\n",
    "\n",
    "def check_data_integrity(df):\n",
    "    df = df.dropna()\n",
    "    groups = df.groupby(['周数', '分组', '局数'])\n",
    "    for g_name, g_df in groups:\n",
    "        assert g_df['排名'].tolist() == [1, 2, 3, 4, 5, 6, 7, 8], g_df['排名'].tolist()\n",
    "        assert g_df['回合数'].is_monotonic_decreasing, g_df['回合数']\n",
    "        tmp_l = g_df['回合数'].tolist()\n",
    "        assert tmp_l[0] == tmp_l[1], g_df['回合数']\n",
    "        assert len(g_df['俱乐部'].unique()) == len(g_df['俱乐部']), len(g_df['俱乐部'].unique())\n",
    "\n",
    "    # 全局BP\n",
    "    groups = df.groupby(['周数', '分组', '俱乐部'])\n",
    "    for g_name, g_df in groups:\n",
    "        assert len(g_df['ban位'].unique()) == len(g_df['ban位']), (g_name, len(g_df['ban位'].unique()))\n",
    "\n",
    "    return df\n",
    "\n",
    "df = pd.read_excel('result.xlsx')\n",
    "df = preprocess_data(df)\n",
    "df = check_data_integrity(df)\n",
    "\n",
    "display(df.head(3))\n",
    "display(df.tail(3))"
   ],
   "metadata": {
    "collapsed": false,
    "pycharm": {
     "name": "#%%\n"
    }
   }
  },
  {
   "cell_type": "code",
   "execution_count": 3,
   "outputs": [
    {
     "data": {
      "text/plain": "          平均分数      平均排名     排名方差  出场次数  登顶次数       登顶率  前三次数       前三率  \\\n阵容                                                                        \n攻辅蛋   9.000000  2.000000        -     1     0  0.000000     1  1.000000   \n弟弟射   7.800000  2.840000     3.64    25     8  0.320000    17  0.680000   \n弟妹法   7.000000  3.000000        -     1     0  0.000000     1  1.000000   \n轻战守约  7.000000  3.500000     12.5     2     1  0.500000     1  0.500000   \n攻辅射   5.080000  4.440000  6.17333    25     4  0.160000    11  0.440000   \n蜀国    5.071429  4.285714  4.37363    14     1  0.071429     6  0.428571   \n扶桑法   5.000000  4.000000        -     1     0  0.000000     0  0.000000   \n魏战    5.000000  4.000000        -     1     0  0.000000     0  0.000000   \n扶桑刺   4.931507  4.465753  5.47451    73     8  0.109589    27  0.369863   \n魔坦刺   4.600000  4.800000      7.7     5     1  0.200000     2  0.400000   \n稷下战   4.312500  4.750000  4.23404    48     4  0.083333    15  0.312500   \n法奶    4.266667  4.933333  6.20952    15     3  0.200000     4  0.266667   \n七射    3.461538  5.384615  5.08974    13     0  0.000000     4  0.307692   \n坦法    3.000000  5.000000        -     1     0  0.000000     0  0.000000   \n魔种    2.818182  5.727273  3.81818    11     0  0.000000     1  0.090909   \n九战    1.000000  7.000000        2     4     0  0.000000     0  0.000000   \n\n                                                   阵容选用  \n阵容                                                       \n攻辅蛋                                          [(蜀, 1.0)]  \n弟弟射                                          [(蜀, 1.0)]  \n弟妹法                                          [(蜀, 1.0)]  \n轻战守约                               [(安, 0.5), (吴, 0.5)]  \n攻辅射        [(卫, 0.36), (蜀, 0.32), (魏, 0.28), (尧, 0.04)]  \n蜀国    [(魏, 0.35714285714285715), (稷, 0.2142857142857...  \n扶桑法                                          [(卫, 1.0)]  \n魏战                                           [(安, 1.0)]  \n扶桑刺   [(卫, 0.3698630136986301), (稷, 0.35616438356164...  \n魔坦刺                                [(稷, 0.8), (神, 0.2)]  \n稷下战   [(安, 0.6875), (魏, 0.125), (蜀, 0.125), (吴, 0.04...  \n法奶    [(卫, 0.6666666666666666), (蜀, 0.26666666666666...  \n七射    [(魏, 0.6923076923076923), (尧, 0.23076923076923...  \n坦法                                           [(尧, 1.0)]  \n魔种    [(稷, 0.8181818181818182), (安, 0.09090909090909...  \n九战                               [(安, 0.75), (吴, 0.25)]  ",
      "text/html": "<div>\n<style scoped>\n    .dataframe tbody tr th:only-of-type {\n        vertical-align: middle;\n    }\n\n    .dataframe tbody tr th {\n        vertical-align: top;\n    }\n\n    .dataframe thead th {\n        text-align: right;\n    }\n</style>\n<table border=\"1\" class=\"dataframe\">\n  <thead>\n    <tr style=\"text-align: right;\">\n      <th></th>\n      <th>平均分数</th>\n      <th>平均排名</th>\n      <th>排名方差</th>\n      <th>出场次数</th>\n      <th>登顶次数</th>\n      <th>登顶率</th>\n      <th>前三次数</th>\n      <th>前三率</th>\n      <th>阵容选用</th>\n    </tr>\n    <tr>\n      <th>阵容</th>\n      <th></th>\n      <th></th>\n      <th></th>\n      <th></th>\n      <th></th>\n      <th></th>\n      <th></th>\n      <th></th>\n      <th></th>\n    </tr>\n  </thead>\n  <tbody>\n    <tr>\n      <th>攻辅蛋</th>\n      <td>9.000000</td>\n      <td>2.000000</td>\n      <td>-</td>\n      <td>1</td>\n      <td>0</td>\n      <td>0.000000</td>\n      <td>1</td>\n      <td>1.000000</td>\n      <td>[(蜀, 1.0)]</td>\n    </tr>\n    <tr>\n      <th>弟弟射</th>\n      <td>7.800000</td>\n      <td>2.840000</td>\n      <td>3.64</td>\n      <td>25</td>\n      <td>8</td>\n      <td>0.320000</td>\n      <td>17</td>\n      <td>0.680000</td>\n      <td>[(蜀, 1.0)]</td>\n    </tr>\n    <tr>\n      <th>弟妹法</th>\n      <td>7.000000</td>\n      <td>3.000000</td>\n      <td>-</td>\n      <td>1</td>\n      <td>0</td>\n      <td>0.000000</td>\n      <td>1</td>\n      <td>1.000000</td>\n      <td>[(蜀, 1.0)]</td>\n    </tr>\n    <tr>\n      <th>轻战守约</th>\n      <td>7.000000</td>\n      <td>3.500000</td>\n      <td>12.5</td>\n      <td>2</td>\n      <td>1</td>\n      <td>0.500000</td>\n      <td>1</td>\n      <td>0.500000</td>\n      <td>[(安, 0.5), (吴, 0.5)]</td>\n    </tr>\n    <tr>\n      <th>攻辅射</th>\n      <td>5.080000</td>\n      <td>4.440000</td>\n      <td>6.17333</td>\n      <td>25</td>\n      <td>4</td>\n      <td>0.160000</td>\n      <td>11</td>\n      <td>0.440000</td>\n      <td>[(卫, 0.36), (蜀, 0.32), (魏, 0.28), (尧, 0.04)]</td>\n    </tr>\n    <tr>\n      <th>蜀国</th>\n      <td>5.071429</td>\n      <td>4.285714</td>\n      <td>4.37363</td>\n      <td>14</td>\n      <td>1</td>\n      <td>0.071429</td>\n      <td>6</td>\n      <td>0.428571</td>\n      <td>[(魏, 0.35714285714285715), (稷, 0.2142857142857...</td>\n    </tr>\n    <tr>\n      <th>扶桑法</th>\n      <td>5.000000</td>\n      <td>4.000000</td>\n      <td>-</td>\n      <td>1</td>\n      <td>0</td>\n      <td>0.000000</td>\n      <td>0</td>\n      <td>0.000000</td>\n      <td>[(卫, 1.0)]</td>\n    </tr>\n    <tr>\n      <th>魏战</th>\n      <td>5.000000</td>\n      <td>4.000000</td>\n      <td>-</td>\n      <td>1</td>\n      <td>0</td>\n      <td>0.000000</td>\n      <td>0</td>\n      <td>0.000000</td>\n      <td>[(安, 1.0)]</td>\n    </tr>\n    <tr>\n      <th>扶桑刺</th>\n      <td>4.931507</td>\n      <td>4.465753</td>\n      <td>5.47451</td>\n      <td>73</td>\n      <td>8</td>\n      <td>0.109589</td>\n      <td>27</td>\n      <td>0.369863</td>\n      <td>[(卫, 0.3698630136986301), (稷, 0.35616438356164...</td>\n    </tr>\n    <tr>\n      <th>魔坦刺</th>\n      <td>4.600000</td>\n      <td>4.800000</td>\n      <td>7.7</td>\n      <td>5</td>\n      <td>1</td>\n      <td>0.200000</td>\n      <td>2</td>\n      <td>0.400000</td>\n      <td>[(稷, 0.8), (神, 0.2)]</td>\n    </tr>\n    <tr>\n      <th>稷下战</th>\n      <td>4.312500</td>\n      <td>4.750000</td>\n      <td>4.23404</td>\n      <td>48</td>\n      <td>4</td>\n      <td>0.083333</td>\n      <td>15</td>\n      <td>0.312500</td>\n      <td>[(安, 0.6875), (魏, 0.125), (蜀, 0.125), (吴, 0.04...</td>\n    </tr>\n    <tr>\n      <th>法奶</th>\n      <td>4.266667</td>\n      <td>4.933333</td>\n      <td>6.20952</td>\n      <td>15</td>\n      <td>3</td>\n      <td>0.200000</td>\n      <td>4</td>\n      <td>0.266667</td>\n      <td>[(卫, 0.6666666666666666), (蜀, 0.26666666666666...</td>\n    </tr>\n    <tr>\n      <th>七射</th>\n      <td>3.461538</td>\n      <td>5.384615</td>\n      <td>5.08974</td>\n      <td>13</td>\n      <td>0</td>\n      <td>0.000000</td>\n      <td>4</td>\n      <td>0.307692</td>\n      <td>[(魏, 0.6923076923076923), (尧, 0.23076923076923...</td>\n    </tr>\n    <tr>\n      <th>坦法</th>\n      <td>3.000000</td>\n      <td>5.000000</td>\n      <td>-</td>\n      <td>1</td>\n      <td>0</td>\n      <td>0.000000</td>\n      <td>0</td>\n      <td>0.000000</td>\n      <td>[(尧, 1.0)]</td>\n    </tr>\n    <tr>\n      <th>魔种</th>\n      <td>2.818182</td>\n      <td>5.727273</td>\n      <td>3.81818</td>\n      <td>11</td>\n      <td>0</td>\n      <td>0.000000</td>\n      <td>1</td>\n      <td>0.090909</td>\n      <td>[(稷, 0.8181818181818182), (安, 0.09090909090909...</td>\n    </tr>\n    <tr>\n      <th>九战</th>\n      <td>1.000000</td>\n      <td>7.000000</td>\n      <td>2</td>\n      <td>4</td>\n      <td>0</td>\n      <td>0.000000</td>\n      <td>0</td>\n      <td>0.000000</td>\n      <td>[(安, 0.75), (吴, 0.25)]</td>\n    </tr>\n  </tbody>\n</table>\n</div>"
     },
     "metadata": {},
     "output_type": "display_data"
    },
    {
     "data": {
      "text/plain": "          平均分数      平均排名      排名方差  出场次数  登顶次数       登顶率  前三次数       前三率  \\\nban位                                                                       \n蜀     6.583333  3.520833  4.850621    48    11  0.229167    27  0.562500   \n安     4.860465  4.465116  4.873754    43     6  0.139535    16  0.372093   \n稷     4.857143  4.547619  5.619628    42     6  0.142857    15  0.357143   \n卫     4.833333  4.437500  4.549202    48     4  0.083333    17  0.354167   \n魏     4.170732  4.926829  5.269512    41     2  0.048780    13  0.317073   \n吴     2.444444  6.111111  4.861111     9     1  0.111111     1  0.111111   \n神     2.000000  6.000000       NaN     1     0  0.000000     0  0.000000   \n尧     1.750000  6.500000  3.142857     8     0  0.000000     1  0.125000   \n\n                                                   阵容选用  \nban位                                                     \n蜀     [(弟弟射, 25), (攻辅射, 8), (稷下战, 6), (法奶, 4), (扶桑刺,...  \n安     [(稷下战, 33), (九战, 3), (蜀国, 3), (轻战守约, 1), (魔种, ...  \n稷               [(扶桑刺, 26), (魔种, 9), (魔坦刺, 4), (蜀国, 3)]  \n卫     [(扶桑刺, 27), (法奶, 10), (攻辅射, 9), (扶桑法, 1), (蜀国,...  \n魏     [(扶桑刺, 14), (七射, 9), (攻辅射, 7), (稷下战, 6), (蜀国, 5)]  \n吴     [(蜀国, 2), (稷下战, 2), (轻战守约, 1), (扶桑刺, 1), (九战, ...  \n神                                            [(魔坦刺, 1)]  \n尧      [(七射, 3), (扶桑刺, 2), (攻辅射, 1), (稷下战, 1), (坦法, 1)]  ",
      "text/html": "<div>\n<style scoped>\n    .dataframe tbody tr th:only-of-type {\n        vertical-align: middle;\n    }\n\n    .dataframe tbody tr th {\n        vertical-align: top;\n    }\n\n    .dataframe thead th {\n        text-align: right;\n    }\n</style>\n<table border=\"1\" class=\"dataframe\">\n  <thead>\n    <tr style=\"text-align: right;\">\n      <th></th>\n      <th>平均分数</th>\n      <th>平均排名</th>\n      <th>排名方差</th>\n      <th>出场次数</th>\n      <th>登顶次数</th>\n      <th>登顶率</th>\n      <th>前三次数</th>\n      <th>前三率</th>\n      <th>阵容选用</th>\n    </tr>\n    <tr>\n      <th>ban位</th>\n      <th></th>\n      <th></th>\n      <th></th>\n      <th></th>\n      <th></th>\n      <th></th>\n      <th></th>\n      <th></th>\n      <th></th>\n    </tr>\n  </thead>\n  <tbody>\n    <tr>\n      <th>蜀</th>\n      <td>6.583333</td>\n      <td>3.520833</td>\n      <td>4.850621</td>\n      <td>48</td>\n      <td>11</td>\n      <td>0.229167</td>\n      <td>27</td>\n      <td>0.562500</td>\n      <td>[(弟弟射, 25), (攻辅射, 8), (稷下战, 6), (法奶, 4), (扶桑刺,...</td>\n    </tr>\n    <tr>\n      <th>安</th>\n      <td>4.860465</td>\n      <td>4.465116</td>\n      <td>4.873754</td>\n      <td>43</td>\n      <td>6</td>\n      <td>0.139535</td>\n      <td>16</td>\n      <td>0.372093</td>\n      <td>[(稷下战, 33), (九战, 3), (蜀国, 3), (轻战守约, 1), (魔种, ...</td>\n    </tr>\n    <tr>\n      <th>稷</th>\n      <td>4.857143</td>\n      <td>4.547619</td>\n      <td>5.619628</td>\n      <td>42</td>\n      <td>6</td>\n      <td>0.142857</td>\n      <td>15</td>\n      <td>0.357143</td>\n      <td>[(扶桑刺, 26), (魔种, 9), (魔坦刺, 4), (蜀国, 3)]</td>\n    </tr>\n    <tr>\n      <th>卫</th>\n      <td>4.833333</td>\n      <td>4.437500</td>\n      <td>4.549202</td>\n      <td>48</td>\n      <td>4</td>\n      <td>0.083333</td>\n      <td>17</td>\n      <td>0.354167</td>\n      <td>[(扶桑刺, 27), (法奶, 10), (攻辅射, 9), (扶桑法, 1), (蜀国,...</td>\n    </tr>\n    <tr>\n      <th>魏</th>\n      <td>4.170732</td>\n      <td>4.926829</td>\n      <td>5.269512</td>\n      <td>41</td>\n      <td>2</td>\n      <td>0.048780</td>\n      <td>13</td>\n      <td>0.317073</td>\n      <td>[(扶桑刺, 14), (七射, 9), (攻辅射, 7), (稷下战, 6), (蜀国, 5)]</td>\n    </tr>\n    <tr>\n      <th>吴</th>\n      <td>2.444444</td>\n      <td>6.111111</td>\n      <td>4.861111</td>\n      <td>9</td>\n      <td>1</td>\n      <td>0.111111</td>\n      <td>1</td>\n      <td>0.111111</td>\n      <td>[(蜀国, 2), (稷下战, 2), (轻战守约, 1), (扶桑刺, 1), (九战, ...</td>\n    </tr>\n    <tr>\n      <th>神</th>\n      <td>2.000000</td>\n      <td>6.000000</td>\n      <td>NaN</td>\n      <td>1</td>\n      <td>0</td>\n      <td>0.000000</td>\n      <td>0</td>\n      <td>0.000000</td>\n      <td>[(魔坦刺, 1)]</td>\n    </tr>\n    <tr>\n      <th>尧</th>\n      <td>1.750000</td>\n      <td>6.500000</td>\n      <td>3.142857</td>\n      <td>8</td>\n      <td>0</td>\n      <td>0.000000</td>\n      <td>1</td>\n      <td>0.125000</td>\n      <td>[(七射, 3), (扶桑刺, 2), (攻辅射, 1), (稷下战, 1), (坦法, 1)]</td>\n    </tr>\n  </tbody>\n</table>\n</div>"
     },
     "metadata": {},
     "output_type": "display_data"
    },
    {
     "data": {
      "text/plain": "             平均分数  平均排名      排名方差  出场次数  登顶次数  登顶率  前三次数  前三率  \\\n俱乐部                                                             \nNMG           6.3   3.6  4.266667    10     2  0.2     6  0.6   \nCW            6.3   3.9  8.544444    10     3  0.3     5  0.5   \nKS.YTG        6.1   3.8  5.511111    10     2  0.2     5  0.5   \n西安WE          6.0   3.7  4.233333    10     1  0.1     4  0.4   \nXQ            6.0   3.9  6.766667    10     1  0.1     5  0.5   \nMQ            5.6   4.3  8.455556    10     3  0.3     4  0.4   \n重庆QGScholar   5.6   4.4  9.822222    10     3  0.3     5  0.5   \nRSG           5.5   4.0  4.000000    10     1  0.1     5  0.5   \n成都AG超玩会       5.5   4.1  5.211111    10     1  0.1     4  0.4   \nDYG           5.3   4.3  5.788889    10     2  0.2     4  0.4   \nRNG.M         5.1   4.3  4.900000    10     1  0.1     4  0.4   \n佛山GK          4.9   4.5  5.833333    10     2  0.2     3  0.3   \nKSSC          4.8   4.5  5.166667    10     1  0.1     4  0.4   \nLX蓝翔          4.7   4.7  7.122222    10     2  0.2     3  0.3   \n杭州LGD大鹅       4.5   4.6  4.711111    10     0  0.0     4  0.4   \nWB.TS         4.5   4.7  5.566667    10     1  0.1     3  0.3   \n武汉eStar       4.4   4.8  5.955556    10     2  0.2     3  0.3   \nVG            4.2   4.8  4.177778    10     0  0.0     4  0.4   \n广州TTG         3.9   4.9  2.988889    10     0  0.0     3  0.3   \nTES           3.9   5.0  5.111111    10     1  0.1     3  0.3   \nACT           3.7   5.1  4.100000    10     0  0.0     3  0.3   \nRW侠           3.6   5.2  4.400000    10     1  0.1     2  0.2   \nXROCK         3.6   5.2  4.844444    10     0  0.0     2  0.2   \n上海EDG.M       3.0   5.7  5.122222    10     0  0.0     2  0.2   \n\n                                                          阵容选用  \n俱乐部                                                             \nNMG          [(扶桑刺, 4), (弟弟射, 2), (蜀国, 1), (攻辅射, 1), (稷下战, ...  \nCW            [(扶桑刺, 4), (魔种, 2), (弟弟射, 2), (蜀国, 1), (稷下战, 1)]  \nKS.YTG                          [(扶桑刺, 6), (稷下战, 3), (攻辅射, 1)]  \n西安WE         [(扶桑刺, 3), (攻辅射, 2), (稷下战, 1), (七射, 1), (魔种, 1...  \nXQ           [(扶桑刺, 5), (弟弟射, 2), (攻辅射, 1), (稷下战, 1), (蜀国, 1)]  \nMQ            [(扶桑刺, 4), (魔种, 2), (稷下战, 2), (七射, 1), (弟弟射, 1)]  \n重庆QGScholar                     [(扶桑刺, 6), (弟弟射, 2), (稷下战, 2)]  \nRSG          [(稷下战, 2), (扶桑刺, 2), (魔坦刺, 1), (攻辅射, 1), (弟弟射,...  \n成都AG超玩会      [(扶桑刺, 4), (弟弟射, 2), (七射, 1), (扶桑法, 1), (蜀国, 1...  \nDYG          [(稷下战, 2), (攻辅射, 2), (法奶, 1), (扶桑刺, 1), (七射, 1...  \nRNG.M        [(扶桑刺, 3), (攻辅射, 2), (蜀国, 2), (稷下战, 2), (轻战守约,...  \n佛山GK                   [(稷下战, 5), (扶桑刺, 2), (魔种, 2), (弟弟射, 1)]  \nKSSC           [(攻辅射, 5), (扶桑刺, 2), (魔种, 1), (九战, 1), (蜀国, 1)]  \nLX蓝翔         [(稷下战, 3), (法奶, 2), (魔坦刺, 1), (攻辅射, 1), (弟弟射, ...  \n杭州LGD大鹅      [(稷下战, 5), (扶桑刺, 2), (弟弟射, 1), (蜀国, 1), (攻辅射, 1)]  \nWB.TS        [(稷下战, 5), (魔坦刺, 1), (攻辅射, 1), (法奶, 1), (弟弟射, ...  \n武汉eStar      [(扶桑刺, 2), (弟弟射, 2), (法奶, 2), (七射, 2), (蜀国, 1)...  \nVG           [(扶桑刺, 3), (稷下战, 2), (法奶, 1), (七射, 1), (轻战守约, ...  \n广州TTG        [(扶桑刺, 5), (七射, 1), (九战, 1), (法奶, 1), (稷下战, 1)...  \nTES          [(扶桑刺, 3), (稷下战, 2), (弟弟射, 2), (魔坦刺, 1), (七射, ...  \nACT          [(稷下战, 3), (攻辅射, 2), (攻辅蛋, 1), (扶桑刺, 1), (魔坦刺,...  \nRW侠          [(扶桑刺, 4), (攻辅射, 2), (稷下战, 1), (七射, 1), (法奶, 1...  \nXROCK        [(扶桑刺, 4), (稷下战, 2), (七射, 1), (蜀国, 1), (弟弟射, 1...  \n上海EDG.M      [(七射, 2), (攻辅射, 2), (法奶, 2), (魔种, 1), (魏战, 1),...  ",
      "text/html": "<div>\n<style scoped>\n    .dataframe tbody tr th:only-of-type {\n        vertical-align: middle;\n    }\n\n    .dataframe tbody tr th {\n        vertical-align: top;\n    }\n\n    .dataframe thead th {\n        text-align: right;\n    }\n</style>\n<table border=\"1\" class=\"dataframe\">\n  <thead>\n    <tr style=\"text-align: right;\">\n      <th></th>\n      <th>平均分数</th>\n      <th>平均排名</th>\n      <th>排名方差</th>\n      <th>出场次数</th>\n      <th>登顶次数</th>\n      <th>登顶率</th>\n      <th>前三次数</th>\n      <th>前三率</th>\n      <th>阵容选用</th>\n    </tr>\n    <tr>\n      <th>俱乐部</th>\n      <th></th>\n      <th></th>\n      <th></th>\n      <th></th>\n      <th></th>\n      <th></th>\n      <th></th>\n      <th></th>\n      <th></th>\n    </tr>\n  </thead>\n  <tbody>\n    <tr>\n      <th>NMG</th>\n      <td>6.3</td>\n      <td>3.6</td>\n      <td>4.266667</td>\n      <td>10</td>\n      <td>2</td>\n      <td>0.2</td>\n      <td>6</td>\n      <td>0.6</td>\n      <td>[(扶桑刺, 4), (弟弟射, 2), (蜀国, 1), (攻辅射, 1), (稷下战, ...</td>\n    </tr>\n    <tr>\n      <th>CW</th>\n      <td>6.3</td>\n      <td>3.9</td>\n      <td>8.544444</td>\n      <td>10</td>\n      <td>3</td>\n      <td>0.3</td>\n      <td>5</td>\n      <td>0.5</td>\n      <td>[(扶桑刺, 4), (魔种, 2), (弟弟射, 2), (蜀国, 1), (稷下战, 1)]</td>\n    </tr>\n    <tr>\n      <th>KS.YTG</th>\n      <td>6.1</td>\n      <td>3.8</td>\n      <td>5.511111</td>\n      <td>10</td>\n      <td>2</td>\n      <td>0.2</td>\n      <td>5</td>\n      <td>0.5</td>\n      <td>[(扶桑刺, 6), (稷下战, 3), (攻辅射, 1)]</td>\n    </tr>\n    <tr>\n      <th>西安WE</th>\n      <td>6.0</td>\n      <td>3.7</td>\n      <td>4.233333</td>\n      <td>10</td>\n      <td>1</td>\n      <td>0.1</td>\n      <td>4</td>\n      <td>0.4</td>\n      <td>[(扶桑刺, 3), (攻辅射, 2), (稷下战, 1), (七射, 1), (魔种, 1...</td>\n    </tr>\n    <tr>\n      <th>XQ</th>\n      <td>6.0</td>\n      <td>3.9</td>\n      <td>6.766667</td>\n      <td>10</td>\n      <td>1</td>\n      <td>0.1</td>\n      <td>5</td>\n      <td>0.5</td>\n      <td>[(扶桑刺, 5), (弟弟射, 2), (攻辅射, 1), (稷下战, 1), (蜀国, 1)]</td>\n    </tr>\n    <tr>\n      <th>MQ</th>\n      <td>5.6</td>\n      <td>4.3</td>\n      <td>8.455556</td>\n      <td>10</td>\n      <td>3</td>\n      <td>0.3</td>\n      <td>4</td>\n      <td>0.4</td>\n      <td>[(扶桑刺, 4), (魔种, 2), (稷下战, 2), (七射, 1), (弟弟射, 1)]</td>\n    </tr>\n    <tr>\n      <th>重庆QGScholar</th>\n      <td>5.6</td>\n      <td>4.4</td>\n      <td>9.822222</td>\n      <td>10</td>\n      <td>3</td>\n      <td>0.3</td>\n      <td>5</td>\n      <td>0.5</td>\n      <td>[(扶桑刺, 6), (弟弟射, 2), (稷下战, 2)]</td>\n    </tr>\n    <tr>\n      <th>RSG</th>\n      <td>5.5</td>\n      <td>4.0</td>\n      <td>4.000000</td>\n      <td>10</td>\n      <td>1</td>\n      <td>0.1</td>\n      <td>5</td>\n      <td>0.5</td>\n      <td>[(稷下战, 2), (扶桑刺, 2), (魔坦刺, 1), (攻辅射, 1), (弟弟射,...</td>\n    </tr>\n    <tr>\n      <th>成都AG超玩会</th>\n      <td>5.5</td>\n      <td>4.1</td>\n      <td>5.211111</td>\n      <td>10</td>\n      <td>1</td>\n      <td>0.1</td>\n      <td>4</td>\n      <td>0.4</td>\n      <td>[(扶桑刺, 4), (弟弟射, 2), (七射, 1), (扶桑法, 1), (蜀国, 1...</td>\n    </tr>\n    <tr>\n      <th>DYG</th>\n      <td>5.3</td>\n      <td>4.3</td>\n      <td>5.788889</td>\n      <td>10</td>\n      <td>2</td>\n      <td>0.2</td>\n      <td>4</td>\n      <td>0.4</td>\n      <td>[(稷下战, 2), (攻辅射, 2), (法奶, 1), (扶桑刺, 1), (七射, 1...</td>\n    </tr>\n    <tr>\n      <th>RNG.M</th>\n      <td>5.1</td>\n      <td>4.3</td>\n      <td>4.900000</td>\n      <td>10</td>\n      <td>1</td>\n      <td>0.1</td>\n      <td>4</td>\n      <td>0.4</td>\n      <td>[(扶桑刺, 3), (攻辅射, 2), (蜀国, 2), (稷下战, 2), (轻战守约,...</td>\n    </tr>\n    <tr>\n      <th>佛山GK</th>\n      <td>4.9</td>\n      <td>4.5</td>\n      <td>5.833333</td>\n      <td>10</td>\n      <td>2</td>\n      <td>0.2</td>\n      <td>3</td>\n      <td>0.3</td>\n      <td>[(稷下战, 5), (扶桑刺, 2), (魔种, 2), (弟弟射, 1)]</td>\n    </tr>\n    <tr>\n      <th>KSSC</th>\n      <td>4.8</td>\n      <td>4.5</td>\n      <td>5.166667</td>\n      <td>10</td>\n      <td>1</td>\n      <td>0.1</td>\n      <td>4</td>\n      <td>0.4</td>\n      <td>[(攻辅射, 5), (扶桑刺, 2), (魔种, 1), (九战, 1), (蜀国, 1)]</td>\n    </tr>\n    <tr>\n      <th>LX蓝翔</th>\n      <td>4.7</td>\n      <td>4.7</td>\n      <td>7.122222</td>\n      <td>10</td>\n      <td>2</td>\n      <td>0.2</td>\n      <td>3</td>\n      <td>0.3</td>\n      <td>[(稷下战, 3), (法奶, 2), (魔坦刺, 1), (攻辅射, 1), (弟弟射, ...</td>\n    </tr>\n    <tr>\n      <th>杭州LGD大鹅</th>\n      <td>4.5</td>\n      <td>4.6</td>\n      <td>4.711111</td>\n      <td>10</td>\n      <td>0</td>\n      <td>0.0</td>\n      <td>4</td>\n      <td>0.4</td>\n      <td>[(稷下战, 5), (扶桑刺, 2), (弟弟射, 1), (蜀国, 1), (攻辅射, 1)]</td>\n    </tr>\n    <tr>\n      <th>WB.TS</th>\n      <td>4.5</td>\n      <td>4.7</td>\n      <td>5.566667</td>\n      <td>10</td>\n      <td>1</td>\n      <td>0.1</td>\n      <td>3</td>\n      <td>0.3</td>\n      <td>[(稷下战, 5), (魔坦刺, 1), (攻辅射, 1), (法奶, 1), (弟弟射, ...</td>\n    </tr>\n    <tr>\n      <th>武汉eStar</th>\n      <td>4.4</td>\n      <td>4.8</td>\n      <td>5.955556</td>\n      <td>10</td>\n      <td>2</td>\n      <td>0.2</td>\n      <td>3</td>\n      <td>0.3</td>\n      <td>[(扶桑刺, 2), (弟弟射, 2), (法奶, 2), (七射, 2), (蜀国, 1)...</td>\n    </tr>\n    <tr>\n      <th>VG</th>\n      <td>4.2</td>\n      <td>4.8</td>\n      <td>4.177778</td>\n      <td>10</td>\n      <td>0</td>\n      <td>0.0</td>\n      <td>4</td>\n      <td>0.4</td>\n      <td>[(扶桑刺, 3), (稷下战, 2), (法奶, 1), (七射, 1), (轻战守约, ...</td>\n    </tr>\n    <tr>\n      <th>广州TTG</th>\n      <td>3.9</td>\n      <td>4.9</td>\n      <td>2.988889</td>\n      <td>10</td>\n      <td>0</td>\n      <td>0.0</td>\n      <td>3</td>\n      <td>0.3</td>\n      <td>[(扶桑刺, 5), (七射, 1), (九战, 1), (法奶, 1), (稷下战, 1)...</td>\n    </tr>\n    <tr>\n      <th>TES</th>\n      <td>3.9</td>\n      <td>5.0</td>\n      <td>5.111111</td>\n      <td>10</td>\n      <td>1</td>\n      <td>0.1</td>\n      <td>3</td>\n      <td>0.3</td>\n      <td>[(扶桑刺, 3), (稷下战, 2), (弟弟射, 2), (魔坦刺, 1), (七射, ...</td>\n    </tr>\n    <tr>\n      <th>ACT</th>\n      <td>3.7</td>\n      <td>5.1</td>\n      <td>4.100000</td>\n      <td>10</td>\n      <td>0</td>\n      <td>0.0</td>\n      <td>3</td>\n      <td>0.3</td>\n      <td>[(稷下战, 3), (攻辅射, 2), (攻辅蛋, 1), (扶桑刺, 1), (魔坦刺,...</td>\n    </tr>\n    <tr>\n      <th>RW侠</th>\n      <td>3.6</td>\n      <td>5.2</td>\n      <td>4.400000</td>\n      <td>10</td>\n      <td>1</td>\n      <td>0.1</td>\n      <td>2</td>\n      <td>0.2</td>\n      <td>[(扶桑刺, 4), (攻辅射, 2), (稷下战, 1), (七射, 1), (法奶, 1...</td>\n    </tr>\n    <tr>\n      <th>XROCK</th>\n      <td>3.6</td>\n      <td>5.2</td>\n      <td>4.844444</td>\n      <td>10</td>\n      <td>0</td>\n      <td>0.0</td>\n      <td>2</td>\n      <td>0.2</td>\n      <td>[(扶桑刺, 4), (稷下战, 2), (七射, 1), (蜀国, 1), (弟弟射, 1...</td>\n    </tr>\n    <tr>\n      <th>上海EDG.M</th>\n      <td>3.0</td>\n      <td>5.7</td>\n      <td>5.122222</td>\n      <td>10</td>\n      <td>0</td>\n      <td>0.0</td>\n      <td>2</td>\n      <td>0.2</td>\n      <td>[(七射, 2), (攻辅射, 2), (法奶, 2), (魔种, 1), (魏战, 1),...</td>\n    </tr>\n  </tbody>\n</table>\n</div>"
     },
     "metadata": {},
     "output_type": "display_data"
    },
    {
     "data": {
      "text/plain": "     平均分数      平均排名      排名方差  出场次数  登顶次数       登顶率  前三次数  前三率  \\\n选手                                                               \n简若   12.0  1.000000  0.000000     3     3  1.000000     3  1.0   \n童小话  11.0  1.333333  0.333333     3     2  0.666667     3  1.0   \n奕将   10.0  1.666667  0.333333     3     1  0.333333     3  1.0   \n小浪晨   9.5  2.000000  2.000000     2     1  0.500000     2  1.0   \n伊夜    9.0  2.000000       NaN     1     0  0.000000     1  1.0   \n..    ...       ...       ...   ...   ...       ...   ...  ...   \n莫然    1.0  7.000000       NaN     1     0  0.000000     0  0.0   \n风流    1.0  7.000000       NaN     1     0  0.000000     0  0.0   \n流星    0.5  7.500000  0.500000     2     0  0.000000     0  0.0   \n小泥巴   0.0  8.000000       NaN     1     0  0.000000     0  0.0   \n年久    0.0  8.000000       NaN     1     0  0.000000     0  0.0   \n\n                     阵容选用  \n选手                         \n简若   [(弟弟射, 2), (扶桑刺, 1)]  \n童小话            [(扶桑刺, 3)]  \n奕将   [(弟弟射, 2), (稷下战, 1)]  \n小浪晨   [(攻辅射, 1), (法奶, 1)]  \n伊夜             [(弟弟射, 1)]  \n..                    ...  \n莫然              [(九战, 1)]  \n风流             [(扶桑刺, 1)]  \n流星    [(扶桑刺, 1), (七射, 1)]  \n小泥巴            [(扶桑刺, 1)]  \n年久              [(法奶, 1)]  \n\n[83 rows x 9 columns]",
      "text/html": "<div>\n<style scoped>\n    .dataframe tbody tr th:only-of-type {\n        vertical-align: middle;\n    }\n\n    .dataframe tbody tr th {\n        vertical-align: top;\n    }\n\n    .dataframe thead th {\n        text-align: right;\n    }\n</style>\n<table border=\"1\" class=\"dataframe\">\n  <thead>\n    <tr style=\"text-align: right;\">\n      <th></th>\n      <th>平均分数</th>\n      <th>平均排名</th>\n      <th>排名方差</th>\n      <th>出场次数</th>\n      <th>登顶次数</th>\n      <th>登顶率</th>\n      <th>前三次数</th>\n      <th>前三率</th>\n      <th>阵容选用</th>\n    </tr>\n    <tr>\n      <th>选手</th>\n      <th></th>\n      <th></th>\n      <th></th>\n      <th></th>\n      <th></th>\n      <th></th>\n      <th></th>\n      <th></th>\n      <th></th>\n    </tr>\n  </thead>\n  <tbody>\n    <tr>\n      <th>简若</th>\n      <td>12.0</td>\n      <td>1.000000</td>\n      <td>0.000000</td>\n      <td>3</td>\n      <td>3</td>\n      <td>1.000000</td>\n      <td>3</td>\n      <td>1.0</td>\n      <td>[(弟弟射, 2), (扶桑刺, 1)]</td>\n    </tr>\n    <tr>\n      <th>童小话</th>\n      <td>11.0</td>\n      <td>1.333333</td>\n      <td>0.333333</td>\n      <td>3</td>\n      <td>2</td>\n      <td>0.666667</td>\n      <td>3</td>\n      <td>1.0</td>\n      <td>[(扶桑刺, 3)]</td>\n    </tr>\n    <tr>\n      <th>奕将</th>\n      <td>10.0</td>\n      <td>1.666667</td>\n      <td>0.333333</td>\n      <td>3</td>\n      <td>1</td>\n      <td>0.333333</td>\n      <td>3</td>\n      <td>1.0</td>\n      <td>[(弟弟射, 2), (稷下战, 1)]</td>\n    </tr>\n    <tr>\n      <th>小浪晨</th>\n      <td>9.5</td>\n      <td>2.000000</td>\n      <td>2.000000</td>\n      <td>2</td>\n      <td>1</td>\n      <td>0.500000</td>\n      <td>2</td>\n      <td>1.0</td>\n      <td>[(攻辅射, 1), (法奶, 1)]</td>\n    </tr>\n    <tr>\n      <th>伊夜</th>\n      <td>9.0</td>\n      <td>2.000000</td>\n      <td>NaN</td>\n      <td>1</td>\n      <td>0</td>\n      <td>0.000000</td>\n      <td>1</td>\n      <td>1.0</td>\n      <td>[(弟弟射, 1)]</td>\n    </tr>\n    <tr>\n      <th>...</th>\n      <td>...</td>\n      <td>...</td>\n      <td>...</td>\n      <td>...</td>\n      <td>...</td>\n      <td>...</td>\n      <td>...</td>\n      <td>...</td>\n      <td>...</td>\n    </tr>\n    <tr>\n      <th>莫然</th>\n      <td>1.0</td>\n      <td>7.000000</td>\n      <td>NaN</td>\n      <td>1</td>\n      <td>0</td>\n      <td>0.000000</td>\n      <td>0</td>\n      <td>0.0</td>\n      <td>[(九战, 1)]</td>\n    </tr>\n    <tr>\n      <th>风流</th>\n      <td>1.0</td>\n      <td>7.000000</td>\n      <td>NaN</td>\n      <td>1</td>\n      <td>0</td>\n      <td>0.000000</td>\n      <td>0</td>\n      <td>0.0</td>\n      <td>[(扶桑刺, 1)]</td>\n    </tr>\n    <tr>\n      <th>流星</th>\n      <td>0.5</td>\n      <td>7.500000</td>\n      <td>0.500000</td>\n      <td>2</td>\n      <td>0</td>\n      <td>0.000000</td>\n      <td>0</td>\n      <td>0.0</td>\n      <td>[(扶桑刺, 1), (七射, 1)]</td>\n    </tr>\n    <tr>\n      <th>小泥巴</th>\n      <td>0.0</td>\n      <td>8.000000</td>\n      <td>NaN</td>\n      <td>1</td>\n      <td>0</td>\n      <td>0.000000</td>\n      <td>0</td>\n      <td>0.0</td>\n      <td>[(扶桑刺, 1)]</td>\n    </tr>\n    <tr>\n      <th>年久</th>\n      <td>0.0</td>\n      <td>8.000000</td>\n      <td>NaN</td>\n      <td>1</td>\n      <td>0</td>\n      <td>0.000000</td>\n      <td>0</td>\n      <td>0.0</td>\n      <td>[(法奶, 1)]</td>\n    </tr>\n  </tbody>\n</table>\n<p>83 rows × 9 columns</p>\n</div>"
     },
     "metadata": {},
     "output_type": "display_data"
    }
   ],
   "source": [
    "def get_comp_statistics(df):\n",
    "    def get_most_ban(x):\n",
    "        c = Counter(x['ban位'])\n",
    "        return [(i, c[i] / len(x)) for i, count in c.most_common()]\n",
    "\n",
    "    groups = df.groupby('阵容')\n",
    "    mean_rank = groups['排名'].mean()\n",
    "    var_rank = groups['排名'].var()\n",
    "    sum_occur = groups['排名'].count()\n",
    "    mean_score = groups['分数'].mean()\n",
    "    top1_cnt = groups['排名'].apply(lambda x: (x == 1).sum())\n",
    "    top1_rate = top1_cnt / sum_occur\n",
    "    top3_cnt = groups['排名'].apply(lambda x: (x <= 3).sum())\n",
    "    top3_rate = top3_cnt / sum_occur\n",
    "    most_ban = groups.apply(get_most_ban)\n",
    "    res = pd.concat([mean_score, mean_rank, var_rank, sum_occur, top1_cnt, top1_rate, top3_cnt, top3_rate, most_ban], axis=1)\n",
    "    res.columns = ('平均分数', '平均排名', '排名方差', '出场次数', '登顶次数', '登顶率', '前三次数', '前三率', '阵容选用')\n",
    "    res = res.sort_values(['平均分数', '平均排名', '登顶率', '前三率'], ascending=[False, True, False, False])\n",
    "    res = res.fillna('-')\n",
    "    return res\n",
    "\n",
    "def get_ban_statistics(df):\n",
    "    def get_most_comp(x):\n",
    "        c = Counter(x['阵容'])\n",
    "        return [(i, c[i]) for i, count in c.most_common()]\n",
    "    groups = df.groupby('ban位')\n",
    "    mean_rank = groups['排名'].mean()\n",
    "    var_rank = groups['排名'].var()\n",
    "    mean_score = groups['分数'].mean()\n",
    "    sum_occur = groups['排名'].count()\n",
    "    top1_cnt = groups['排名'].apply(lambda x: (x == 1).sum())\n",
    "    top1_rate = top1_cnt / sum_occur\n",
    "    top3_cnt = groups['排名'].apply(lambda x: (x <= 3).sum())\n",
    "    top3_rate = top3_cnt / sum_occur\n",
    "    most_comp = groups.apply(get_most_comp)\n",
    "    res = pd.concat([mean_score, mean_rank, var_rank, sum_occur, top1_cnt, top1_rate, top3_cnt, top3_rate, most_comp], axis=1)\n",
    "    res.columns = ('平均分数', '平均排名', '排名方差', '出场次数', '登顶次数', '登顶率', '前三次数', '前三率', '阵容选用')\n",
    "    res = res.sort_values(['平均分数', '平均排名', '登顶率', '前三率'], ascending=[False, True, False, False])\n",
    "    return res\n",
    "\n",
    "\n",
    "def get_team_statistics(df):\n",
    "    def get_most_comp(x):\n",
    "        c = Counter(x['阵容'])\n",
    "        return [(i, c[i]) for i, count in c.most_common()]\n",
    "    groups = df.groupby('俱乐部')\n",
    "    mean_rank = groups['排名'].mean()\n",
    "    var_rank = groups['排名'].var()\n",
    "    mean_score = groups['分数'].mean()\n",
    "    sum_occur = groups['排名'].count()\n",
    "    top1_cnt = groups['排名'].apply(lambda x: (x == 1).sum())\n",
    "    top1_rate = top1_cnt / sum_occur\n",
    "    top3_cnt = groups['排名'].apply(lambda x: (x <= 3).sum())\n",
    "    top3_rate = top3_cnt / sum_occur\n",
    "    most_comp = groups.apply(get_most_comp)\n",
    "    res = pd.concat([mean_score, mean_rank, var_rank, sum_occur, top1_cnt, top1_rate, top3_cnt, top3_rate, most_comp], axis=1)\n",
    "    res.columns = ('平均分数', '平均排名', '排名方差', '出场次数', '登顶次数', '登顶率', '前三次数', '前三率', '阵容选用')\n",
    "    res = res.sort_values(['平均分数', '平均排名', '登顶率', '前三率'], ascending=[False, True, False, False])\n",
    "    return res\n",
    "\n",
    "def get_player_statistics(df):\n",
    "    def get_most_comp(x):\n",
    "        c = Counter(x['阵容'])\n",
    "        return [(i, c[i]) for i, count in c.most_common()]\n",
    "    groups = df.groupby('选手')\n",
    "    mean_rank = groups['排名'].mean()\n",
    "    var_rank = groups['排名'].var()\n",
    "    mean_score = groups['分数'].mean()\n",
    "    sum_occur = groups['排名'].count()\n",
    "    top1_cnt = groups['排名'].apply(lambda x: (x == 1).sum())\n",
    "    top1_rate = top1_cnt / sum_occur\n",
    "    top3_cnt = groups['排名'].apply(lambda x: (x <= 3).sum())\n",
    "    top3_rate = top3_cnt / sum_occur\n",
    "    most_comp = groups.apply(get_most_comp)\n",
    "    res = pd.concat([mean_score, mean_rank, var_rank, sum_occur, top1_cnt, top1_rate, top3_cnt, top3_rate, most_comp], axis=1)\n",
    "    res.columns = ('平均分数', '平均排名', '排名方差', '出场次数', '登顶次数', '登顶率', '前三次数', '前三率', '阵容选用')\n",
    "    res = res.sort_values(['平均分数', '平均排名', '登顶率', '前三率'], ascending=[False, True, False, False])\n",
    "    return res\n",
    "\n",
    "display(get_comp_statistics(df))\n",
    "display(get_ban_statistics(df))\n",
    "display(get_team_statistics(df))\n",
    "display(get_player_statistics(df))"
   ],
   "metadata": {
    "collapsed": false,
    "pycharm": {
     "name": "#%%\n"
    }
   }
  },
  {
   "cell_type": "code",
   "execution_count": 4,
   "outputs": [
    {
     "data": {
      "text/plain": "       弟弟射  全阵容对比排名\n平均分数   7.8        1\n平均排名  2.84        1\n排名方差  3.64        1\n出场次数    25        3\n登顶率   0.32        1\n前三率   0.68        1",
      "text/html": "<div>\n<style scoped>\n    .dataframe tbody tr th:only-of-type {\n        vertical-align: middle;\n    }\n\n    .dataframe tbody tr th {\n        vertical-align: top;\n    }\n\n    .dataframe thead th {\n        text-align: right;\n    }\n</style>\n<table border=\"1\" class=\"dataframe\">\n  <thead>\n    <tr style=\"text-align: right;\">\n      <th></th>\n      <th>弟弟射</th>\n      <th>全阵容对比排名</th>\n    </tr>\n  </thead>\n  <tbody>\n    <tr>\n      <th>平均分数</th>\n      <td>7.8</td>\n      <td>1</td>\n    </tr>\n    <tr>\n      <th>平均排名</th>\n      <td>2.84</td>\n      <td>1</td>\n    </tr>\n    <tr>\n      <th>排名方差</th>\n      <td>3.64</td>\n      <td>1</td>\n    </tr>\n    <tr>\n      <th>出场次数</th>\n      <td>25</td>\n      <td>3</td>\n    </tr>\n    <tr>\n      <th>登顶率</th>\n      <td>0.32</td>\n      <td>1</td>\n    </tr>\n    <tr>\n      <th>前三率</th>\n      <td>0.68</td>\n      <td>1</td>\n    </tr>\n  </tbody>\n</table>\n</div>"
     },
     "metadata": {},
     "output_type": "display_data"
    },
    {
     "data": {
      "text/plain": "                        简若 全选手对比排名\n平均分数                    12       1\n平均排名                     1       1\n排名方差                     0       1\n登顶率                      1       1\n前三率                      1       1\n出场次数                     3       /\n阵容选用  [(弟弟射, 2), (扶桑刺, 1)]       /",
      "text/html": "<div>\n<style scoped>\n    .dataframe tbody tr th:only-of-type {\n        vertical-align: middle;\n    }\n\n    .dataframe tbody tr th {\n        vertical-align: top;\n    }\n\n    .dataframe thead th {\n        text-align: right;\n    }\n</style>\n<table border=\"1\" class=\"dataframe\">\n  <thead>\n    <tr style=\"text-align: right;\">\n      <th></th>\n      <th>简若</th>\n      <th>全选手对比排名</th>\n    </tr>\n  </thead>\n  <tbody>\n    <tr>\n      <th>平均分数</th>\n      <td>12</td>\n      <td>1</td>\n    </tr>\n    <tr>\n      <th>平均排名</th>\n      <td>1</td>\n      <td>1</td>\n    </tr>\n    <tr>\n      <th>排名方差</th>\n      <td>0</td>\n      <td>1</td>\n    </tr>\n    <tr>\n      <th>登顶率</th>\n      <td>1</td>\n      <td>1</td>\n    </tr>\n    <tr>\n      <th>前三率</th>\n      <td>1</td>\n      <td>1</td>\n    </tr>\n    <tr>\n      <th>出场次数</th>\n      <td>3</td>\n      <td>/</td>\n    </tr>\n    <tr>\n      <th>阵容选用</th>\n      <td>[(弟弟射, 2), (扶桑刺, 1)]</td>\n      <td>/</td>\n    </tr>\n  </tbody>\n</table>\n</div>"
     },
     "metadata": {},
     "output_type": "display_data"
    },
    {
     "data": {
      "text/plain": "                                                    NMG 全队伍对比排名\n平均分数                                                6.3       1\n平均排名                                                3.6       1\n排名方差                                            4.26667       6\n登顶率                                                 0.2       4\n前三率                                                 0.6       1\n出场次数                                                 10       /\n阵容选用  [(扶桑刺, 4), (弟弟射, 2), (蜀国, 1), (攻辅射, 1), (稷下战, ...       /",
      "text/html": "<div>\n<style scoped>\n    .dataframe tbody tr th:only-of-type {\n        vertical-align: middle;\n    }\n\n    .dataframe tbody tr th {\n        vertical-align: top;\n    }\n\n    .dataframe thead th {\n        text-align: right;\n    }\n</style>\n<table border=\"1\" class=\"dataframe\">\n  <thead>\n    <tr style=\"text-align: right;\">\n      <th></th>\n      <th>NMG</th>\n      <th>全队伍对比排名</th>\n    </tr>\n  </thead>\n  <tbody>\n    <tr>\n      <th>平均分数</th>\n      <td>6.3</td>\n      <td>1</td>\n    </tr>\n    <tr>\n      <th>平均排名</th>\n      <td>3.6</td>\n      <td>1</td>\n    </tr>\n    <tr>\n      <th>排名方差</th>\n      <td>4.26667</td>\n      <td>6</td>\n    </tr>\n    <tr>\n      <th>登顶率</th>\n      <td>0.2</td>\n      <td>4</td>\n    </tr>\n    <tr>\n      <th>前三率</th>\n      <td>0.6</td>\n      <td>1</td>\n    </tr>\n    <tr>\n      <th>出场次数</th>\n      <td>10</td>\n      <td>/</td>\n    </tr>\n    <tr>\n      <th>阵容选用</th>\n      <td>[(扶桑刺, 4), (弟弟射, 2), (蜀国, 1), (攻辅射, 1), (稷下战, ...</td>\n      <td>/</td>\n    </tr>\n  </tbody>\n</table>\n</div>"
     },
     "metadata": {},
     "output_type": "display_data"
    },
    {
     "name": "stdout",
     "output_type": "stream",
     "text": [
      "Wall time: 127 ms\n"
     ]
    }
   ],
   "source": [
    "%%time\n",
    "\n",
    "def report_mvp_comp(comp_stats):\n",
    "    MIN_OCCURENCE = 5\n",
    "    metric_weights = {\n",
    "        '平均分数': [15, False],\n",
    "        '平均排名': [5, True],\n",
    "        '排名方差': [3, True],\n",
    "        '出场次数': [5, False],\n",
    "        '登顶率': [5, False],\n",
    "        '前三率': [3, False]\n",
    "    }\n",
    "    comp_stats = comp_stats[comp_stats['出场次数'] >= MIN_OCCURENCE]\n",
    "    raw_ranks = []\n",
    "    weights = []\n",
    "    for metric, value in metric_weights.items():\n",
    "        weight, ascending = value\n",
    "        metric_rank = comp_stats[metric].rank(ascending=ascending, method='min').astype(int)\n",
    "        raw_ranks.append(metric_rank)\n",
    "        weights.append(weight)\n",
    "    comp_rank = sum([r * w for r, w in zip(raw_ranks, weights)]).sort_values()\n",
    "    # print(comp_rank)\n",
    "    mvp_comp = comp_rank.index[0]\n",
    "    # print('本期MVP阵容:', mvp_comp)\n",
    "    mvp_comp_metric_ranks = pd.Series({r.name: r[mvp_comp] for r in raw_ranks})\n",
    "    mvp_comp_metric_values = comp_stats.loc[mvp_comp][mvp_comp_metric_ranks.index].T\n",
    "    res = pd.concat([mvp_comp_metric_values, mvp_comp_metric_ranks], axis=1)\n",
    "    res.columns = [mvp_comp, '全阵容对比排名']\n",
    "    return res\n",
    "comp_stats = get_comp_statistics(df)\n",
    "display(report_mvp_comp(comp_stats))\n",
    "\n",
    "def report_mvp_player(player_stats):\n",
    "    MIN_OCCURENCE = 3\n",
    "    metric_weights = {\n",
    "        '平均分数': [15, False],\n",
    "        '平均排名': [10, True],\n",
    "        '排名方差': [5, True],\n",
    "        '登顶率': [10, False],\n",
    "        '前三率': [5, False],\n",
    "        '出场次数': [0, False],\n",
    "        '阵容选用': [0, False]\n",
    "    }\n",
    "    player_stats = player_stats[player_stats['出场次数'] >= MIN_OCCURENCE]\n",
    "    raw_ranks = []\n",
    "    weights = []\n",
    "    for metric, value in metric_weights.items():\n",
    "        weight, ascending = value\n",
    "        metric_rank = player_stats[metric].rank(ascending=ascending, method='min').astype(int)\n",
    "        raw_ranks.append(metric_rank)\n",
    "        weights.append(weight)\n",
    "    player_rank = sum([r * w for r, w in zip(raw_ranks, weights)]).sort_values()\n",
    "    mvp_player = player_rank.index[0]\n",
    "    # print('本期MVP选手:', mvp_player)\n",
    "    mvp_player_metric_ranks = pd.Series({r.name: r[mvp_player] for r in raw_ranks})\n",
    "    mvp_player_metric_values = player_stats.loc[mvp_player][mvp_player_metric_ranks.index].T\n",
    "    res = pd.concat([mvp_player_metric_values, mvp_player_metric_ranks], axis=1)\n",
    "    res.columns = [mvp_player, '全选手对比排名']\n",
    "    res['全选手对比排名'] = (res['全选手对比排名'] / weights * weights).fillna('/')\n",
    "    return res\n",
    "\n",
    "player_stats = get_player_statistics(df)\n",
    "display(report_mvp_player(player_stats))\n",
    "\n",
    "def report_mvp_team(team_stats):\n",
    "    metric_weights = {\n",
    "        '平均分数': [15, False],\n",
    "        '平均排名': [10, True],\n",
    "        '排名方差': [5, True],\n",
    "        '登顶率': [10, False],\n",
    "        '前三率': [5, False],\n",
    "        '出场次数': [0, False],\n",
    "        '阵容选用': [0, False]\n",
    "    }\n",
    "    raw_ranks = []\n",
    "    weights = []\n",
    "    for metric, value in metric_weights.items():\n",
    "        weight, ascending = value\n",
    "        metric_rank = team_stats[metric].rank(ascending=ascending, method='min').astype(int)\n",
    "        raw_ranks.append(metric_rank)\n",
    "        weights.append(weight)\n",
    "    team_rank = sum([r * w for r, w in zip(raw_ranks, weights)]).sort_values()\n",
    "    mvp_team = team_rank.index[0]\n",
    "    # print('本期MVP选手:', mvp_team)\n",
    "    mvp_team_metric_ranks = pd.Series({r.name: r[mvp_team] for r in raw_ranks})\n",
    "    mvp_team_metric_values = team_stats.loc[mvp_team][mvp_team_metric_ranks.index].T\n",
    "    res = pd.concat([mvp_team_metric_values, mvp_team_metric_ranks], axis=1)\n",
    "    res.columns = [mvp_team, '全队伍对比排名']\n",
    "    res['全队伍对比排名'] = (res['全队伍对比排名'] / weights * weights).fillna('/')\n",
    "    return res\n",
    "\n",
    "team_stats = get_team_statistics(df)\n",
    "display(report_mvp_team(team_stats))"
   ],
   "metadata": {
    "collapsed": false,
    "pycharm": {
     "name": "#%%\n"
    }
   }
  },
  {
   "cell_type": "code",
   "execution_count": 5,
   "outputs": [
    {
     "name": "stdout",
     "output_type": "stream",
     "text": [
      "最长游戏:\n",
      "              选手    详细阵容  回合数         局数  排名\n",
      "120  武汉eStar.小玄策  扶桑群雄法刺   36  第4周低分组第1局   1\n",
      "121     XROCK.痘痘     弟弟射   36  第4周低分组第1局   2\n",
      "144       RW侠.种子   稷下攻辅射   36  第4周低分组第4局   1\n",
      "145   杭州LGD大鹅.六月     稷下战   36  第4周低分组第4局   2\n",
      "\n",
      "最短游戏:\n",
      "              选手 详细阵容  回合数         局数  排名\n",
      "128  武汉eStar.曹老大   蜀国   26  第4周低分组第2局   1\n",
      "129     WB.TS.刺儿  弟弟射   26  第4周低分组第2局   2\n",
      "\n",
      "最高质量:\n",
      "选手          CW.简若\n",
      "详细阵容         扶桑法刺\n",
      "质量            177\n",
      "局数      第3周中分组第1局\n",
      "排名              1\n",
      "Name: 40, dtype: object\n",
      "\n",
      "最低质量:\n",
      "选手        MQ.暴躁黑猪\n",
      "详细阵容      魔种(无天赋)\n",
      "质量             33\n",
      "局数      第4周高分组第5局\n",
      "排名              8\n",
      "Name: 239, dtype: object\n",
      "\n",
      "最高输出:\n",
      "选手         RW侠.种子\n",
      "详细阵容        稷下攻辅射\n",
      "输出            260\n",
      "局数      第4周低分组第4局\n",
      "排名              1\n",
      "Name: 144, dtype: object\n",
      "\n",
      "最低输出:\n",
      "选手      KSSC.抓只好棋\n",
      "详细阵容        扶桑群雄刺\n",
      "输出              5\n",
      "局数      第4周高分组第2局\n",
      "排名              8\n",
      "Name: 215, dtype: object\n",
      "\n"
     ]
    }
   ],
   "source": [
    "def report_interesting_data(df):\n",
    "    b_df = df.copy()\n",
    "    b_df['选手'] = b_df['选手'].astype(str)\n",
    "    b_df['俱乐部'] = b_df['俱乐部'].astype(str)\n",
    "    b_df['选手'] = b_df[['俱乐部', '选手']].agg('.'.join, axis=1)\n",
    "    b_df['局数'] = b_df.apply(lambda x: f'第{x[\"周数\"]}周{x.loc[\"分组\"]}第{x.loc[\"局数\"]}局', axis=1)\n",
    "    # 最长游戏回合\n",
    "    longest_game = b_df.loc[b_df['回合数'] == b_df['回合数'].max()][['选手', '详细阵容', '回合数', '局数', '排名']]\n",
    "    print(f'最长游戏:\\n{longest_game}\\n')\n",
    "    # 最短游戏回合\n",
    "    first_twos = b_df.loc[b_df['排名'] <= 2]\n",
    "    shortest_game = first_twos.loc[first_twos['回合数'] == first_twos['回合数'].min()][['选手', '详细阵容', '回合数', '局数', '排名']]\n",
    "    print(f'最短游戏:\\n{shortest_game}\\n')\n",
    "    highest_price = b_df.iloc[b_df['质量'].idxmax()][['选手', '详细阵容', '质量', '局数', '排名']]\n",
    "    print(f'最高质量:\\n{highest_price}\\n')\n",
    "    lowest_price = b_df.iloc[b_df['质量'].idxmin()][['选手', '详细阵容', '质量', '局数', '排名']]\n",
    "    print(f'最低质量:\\n{lowest_price}\\n')\n",
    "    highest_damage = b_df.iloc[b_df['输出'].idxmax()][['选手', '详细阵容', '输出', '局数', '排名']]\n",
    "    print(f'最高输出:\\n{highest_damage}\\n')\n",
    "    lowest_damage = b_df.iloc[b_df['输出'].idxmin()][['选手', '详细阵容', '输出', '局数', '排名']]\n",
    "    print(f'最低输出:\\n{lowest_damage}\\n')\n",
    "\n",
    "report_interesting_data(df)"
   ],
   "metadata": {
    "collapsed": false,
    "pycharm": {
     "name": "#%%\n"
    }
   }
  },
  {
   "cell_type": "code",
   "execution_count": 9,
   "outputs": [],
   "source": [
    "def plot_ban_to_comp(ban_stats, filepath=None):\n",
    "    fig, axs = plt.subplots(1, len(ban_stats), figsize=(30, 4))\n",
    "    for ax, ban in zip(axs, ban_stats.itertuples()):\n",
    "        labels, ys = [m[0] for m in ban[-1]], [m[1] for m in ban[-1]]\n",
    "        colors = [comp_color[re.sub(r'\\([^)]*\\)', '', c).strip()] for c in labels]\n",
    "        explode = [0.015] * len(ys)\n",
    "        def value(val):\n",
    "            return f'{val:.2f}%'\n",
    "        ax.pie(ys, labels=labels, colors=colors, explode=explode, autopct=value, shadow=False, pctdistance=0.6)\n",
    "        ax.set_title(f'{ban[0]} (均分{ban[1]:.2f},出场{ban[4]})', fontsize=15, x=0.5, y=1.01)\n",
    "\n",
    "    fig.tight_layout()\n",
    "    if filepath:\n",
    "        fig.savefig(filepath, dpi=250)\n",
    "    else:\n",
    "        plt.show(fig)\n",
    "    plt.close(fig)\n",
    "\n",
    "def plot_comp_data(comp_stats, filepath=None):\n",
    "    fig, ax = plt.subplots(figsize=(6, 4))\n",
    "    y = comp_stats['平均排名']\n",
    "    x = comp_stats['出场次数']\n",
    "    names = comp_stats.index\n",
    "    ax.scatter(x, y)\n",
    "    ax.set_title('阵容数据')\n",
    "    ax.set_ylabel('平均排名')\n",
    "    ax.set_xlabel('出场次数')\n",
    "    ax.set_xlim(left=0, right=max(x) + 1)\n",
    "    ax.set_ylim(bottom=1, top=8)\n",
    "    ax.hlines(y=4.5, xmin=0, xmax=max(x) + 1, colors='orange', linestyles='--', lw=2, label='理论均值')\n",
    "    ax.legend(loc=\"lower right\")\n",
    "    for i, txt in enumerate(names):\n",
    "        ax.annotate(txt, (x[i] + 0.25, y[i]))\n",
    "    fig.gca().invert_yaxis()\n",
    "    if filepath:\n",
    "        fig.savefig(filepath, dpi=250)\n",
    "    else:\n",
    "        plt.show(fig)\n",
    "    plt.close(fig)\n",
    "\n",
    "comp_stats = get_comp_statistics(df)\n",
    "plot_comp_data(comp_stats, \"data/comp_data.png\")\n",
    "# plot_comp_data(comp_stats, None)\n",
    "ban_stats = get_ban_statistics(df)\n",
    "plot_ban_to_comp(ban_stats, \"data/ban_to_comp.png\")\n",
    "# plot_ban_to_comp(ban_stats, None)"
   ],
   "metadata": {
    "collapsed": false,
    "pycharm": {
     "name": "#%%\n"
    }
   }
  },
  {
   "cell_type": "code",
   "execution_count": 7,
   "outputs": [
    {
     "data": {
      "text/plain": "                 id        bid  \\\n3  4558135123513004  JoomkeJTm   \n\n                                                  正文  头条文章url  \\\n3  王者荣耀超话  KPL超话  #王者模拟战# #王者模拟战职业大师赛#·秋季赛·常规赛第四周...      NaN   \n\n                                             原始图片url 视频url  位置          日期  \\\n3  https://wx4.sinaimg.cn/large/005XNCJ1gy1gjj3p5...   NaN NaN  2020-10-09   \n\n        工具  点赞数  评论数  转发数                话题  @用户  \n3  搜狗高速浏览器    0    0    0  王者模拟战,王者模拟战职业大师赛  NaN  ",
      "text/html": "<div>\n<style scoped>\n    .dataframe tbody tr th:only-of-type {\n        vertical-align: middle;\n    }\n\n    .dataframe tbody tr th {\n        vertical-align: top;\n    }\n\n    .dataframe thead th {\n        text-align: right;\n    }\n</style>\n<table border=\"1\" class=\"dataframe\">\n  <thead>\n    <tr style=\"text-align: right;\">\n      <th></th>\n      <th>id</th>\n      <th>bid</th>\n      <th>正文</th>\n      <th>头条文章url</th>\n      <th>原始图片url</th>\n      <th>视频url</th>\n      <th>位置</th>\n      <th>日期</th>\n      <th>工具</th>\n      <th>点赞数</th>\n      <th>评论数</th>\n      <th>转发数</th>\n      <th>话题</th>\n      <th>@用户</th>\n    </tr>\n  </thead>\n  <tbody>\n    <tr>\n      <th>3</th>\n      <td>4558135123513004</td>\n      <td>JoomkeJTm</td>\n      <td>王者荣耀超话  KPL超话  #王者模拟战# #王者模拟战职业大师赛#·秋季赛·常规赛第四周...</td>\n      <td>NaN</td>\n      <td>https://wx4.sinaimg.cn/large/005XNCJ1gy1gjj3p5...</td>\n      <td>NaN</td>\n      <td>NaN</td>\n      <td>2020-10-09</td>\n      <td>搜狗高速浏览器</td>\n      <td>0</td>\n      <td>0</td>\n      <td>0</td>\n      <td>王者模拟战,王者模拟战职业大师赛</td>\n      <td>NaN</td>\n    </tr>\n  </tbody>\n</table>\n</div>"
     },
     "metadata": {},
     "output_type": "display_data"
    },
    {
     "name": "stdout",
     "output_type": "stream",
     "text": [
      "(25, 14)\n"
     ]
    }
   ],
   "source": [
    "weibo_csv_path = 'weibo_crawler/weibo/王者模拟战职业大师赛/5464294919.csv'\n",
    "weibo_df = pd.read_csv(weibo_csv_path)\n",
    "weibo_df = weibo_df.loc[weibo_df['正文'].str.contains('决赛圈')]\n",
    "display(weibo_df.head(1))\n",
    "print(weibo_df.shape)\n",
    "\n"
   ],
   "metadata": {
    "collapsed": false,
    "pycharm": {
     "name": "#%%\n"
    }
   }
  }
 ],
 "metadata": {
  "kernelspec": {
   "display_name": "Python 3",
   "language": "python",
   "name": "python3"
  },
  "language_info": {
   "codemirror_mode": {
    "name": "ipython",
    "version": 2
   },
   "file_extension": ".py",
   "mimetype": "text/x-python",
   "name": "python",
   "nbconvert_exporter": "python",
   "pygments_lexer": "ipython2",
   "version": "2.7.6"
  }
 },
 "nbformat": 4,
 "nbformat_minor": 0
}