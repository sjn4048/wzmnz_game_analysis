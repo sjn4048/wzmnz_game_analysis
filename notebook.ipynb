{
 "cells": [
  {
   "cell_type": "code",
   "execution_count": 37,
   "outputs": [],
   "source": [
    "import pandas as pd\n",
    "from collections import Counter\n",
    "import re\n",
    "import matplotlib.pyplot as plt\n",
    "import numpy as np\n",
    "\n",
    "plt.rcParams['font.sans-serif'] = ['SimHei']\n",
    "plt.rcParams['axes.unicode_minus'] = False\n",
    "\n",
    "comp_color = {\n",
    "    '魔坦刺': '#858561',\n",
    "    '扶桑法刺': '#9e71ad',\n",
    "    '扶桑群雄刺': '#968795',\n",
    "    '扶桑群雄法刺': '#6603fc',\n",
    "    '扶桑刺': '#6603fc',\n",
    "    '魔种': '#a35956',\n",
    "    '扶桑男刺': '#bfae91',\n",
    "    '扶桑法': '#8000ff',\n",
    "\n",
    "    '七射': '#14ffa5',\n",
    "    '攻辅射': '#42d7f5',\n",
    "    '弟弟射': '#fceb30',\n",
    "    '攻辅蛋': '#ffac1c',\n",
    "\n",
    "    '九战': '#ff0000',\n",
    "    '稷下战': '#ff5e5e',\n",
    "    '轻战守约': '#ff8e5e',\n",
    "    '魏战': '#ff0084',\n",
    "    '长城战': '#f8ff6b',\n",
    "\n",
    "    '蜀国': '#00cc18',\n",
    "    '弟弟蜀': '#a1eb34',\n",
    "\n",
    "    '法奶': '#0093f5',\n",
    "    '弟妹法': '#7900fa',\n",
    "    '坦法': '#ff5900'\n",
    "    }\n",
    "\n",
    "comp_to_brief = {\n",
    "    '扶桑法刺': '扶桑刺',\n",
    "    '扶桑刺': '扶桑刺',\n",
    "    '扶桑群雄刺': '扶桑刺',\n",
    "    '扶桑群雄法刺': '扶桑刺',\n",
    "    '扶桑男刺': '扶桑刺',\n",
    "    '魔种(无天赋)' :'魔种',\n",
    "    '魔种(有天赋)' :'魔种',\n",
    "    '封神攻辅射': '攻辅射',\n",
    "    '吴国攻辅射': '攻辅射',\n",
    "    '稷下攻辅射': '攻辅射',\n",
    "    '尧天攻辅射': '攻辅射'\n",
    "}\n",
    "\n",
    "rank_to_score = [12, 9, 7, 5, 3, 2, 1, 0]\n",
    "\n",
    "class Config:\n",
    "    use_brief_comp = True\n",
    "\n",
    "pd.set_option('display.max_columns', None)"
   ],
   "metadata": {
    "collapsed": false,
    "pycharm": {
     "name": "#%%\n"
    }
   }
  },
  {
   "cell_type": "code",
   "execution_count": 38,
   "outputs": [],
   "source": [
    "def preprocess_data(df):\n",
    "    df = df.dropna()\n",
    "    df['分数'] = df['排名'].apply(lambda x: rank_to_score[int(x) - 1])\n",
    "    if Config.use_brief_comp:\n",
    "        df['详细阵容'] = df['阵容']\n",
    "        df['阵容'] = df['详细阵容'].apply(lambda x: comp_to_brief.get(x, x))\n",
    "    df['回合数'] = df['胜'] + df['负']\n",
    "    return df\n",
    "\n",
    "def check_data_integrity(df):\n",
    "    groups = df.groupby(['周数', '分组', '局数'])\n",
    "    for g_name, g_df in groups:\n",
    "        assert g_df['排名'].tolist() == [1, 2, 3, 4, 5, 6, 7, 8], g_df['排名'].tolist()\n",
    "        assert g_df['回合数'].is_monotonic_decreasing, g_df\n",
    "        tmp_l = g_df['回合数'].tolist()\n",
    "        assert tmp_l[0] == tmp_l[1], g_df['回合数']\n",
    "        assert len(g_df['俱乐部'].unique()) == len(g_df['俱乐部']), len(g_df['俱乐部'].unique())\n",
    "\n",
    "    # 全局BP\n",
    "    groups = df.groupby(['周数', '分组', '俱乐部'])\n",
    "    for g_name, g_df in groups:\n",
    "        assert len(g_df['ban位'].unique()) == len(g_df['ban位']), (g_name, len(g_df['ban位'].unique()))\n",
    "\n",
    "    return df\n",
    "\n",
    "df = pd.read_excel('result.xlsx')\n",
    "df = preprocess_data(df)\n",
    "df = check_data_integrity(df)"
   ],
   "metadata": {
    "collapsed": false,
    "pycharm": {
     "name": "#%%\n"
    }
   }
  },
  {
   "cell_type": "code",
   "execution_count": 39,
   "outputs": [
    {
     "data": {
      "text/plain": "          平均分数      平均排名     排名方差  出场次数  登顶次数       登顶率  前三次数       前三率  \\\n阵容                                                                        \n攻辅蛋   9.000000  2.000000        -     1     0  0.000000     1  1.000000   \n弟弟射   6.777778  3.444444   5.2254    36     9  0.250000    21  0.583333   \n攻辅射   5.600000  4.133333  6.11954    30     5  0.166667    15  0.500000   \n扶桑法   5.000000  4.000000        -     1     0  0.000000     0  0.000000   \n长城战   5.000000  4.000000        -     1     0  0.000000     0  0.000000   \n魏战    5.000000  4.000000        -     1     0  0.000000     0  0.000000   \n扶桑刺   4.969072  4.443299  5.37436    97    12  0.123711    36  0.371134   \n稷下战   4.728814  4.508475  4.39217    59     6  0.101695    20  0.338983   \n轻战守约  4.666667  5.000000       13     3     1  0.333333     1  0.333333   \n魔坦刺   4.545455  4.818182  6.96364    11     2  0.181818     4  0.363636   \n蜀国    4.368421  4.736842  4.64912    19     1  0.052632     7  0.368421   \n弟弟蜀   4.000000  5.000000        8     2     0  0.000000     1  0.500000   \n七射    3.894737  5.052632   4.7193    19     0  0.000000     7  0.368421   \n法奶    3.789474  5.157895  5.36257    19     3  0.157895     4  0.210526   \n弟妹法   3.333333  5.333333  4.33333     3     0  0.000000     1  0.333333   \n坦法    3.000000  5.000000        -     1     0  0.000000     0  0.000000   \n九战    3.000000  5.833333  6.96667     6     1  0.166667     1  0.166667   \n魔种    2.818182  5.727273  3.81818    11     0  0.000000     1  0.090909   \n\n                                                   阵容选用  \n阵容                                                       \n攻辅蛋                                          [(蜀, 1.0)]  \n弟弟射                                          [(蜀, 1.0)]  \n攻辅射   [(蜀, 0.3333333333333333), (卫, 0.33333333333333...  \n扶桑法                                          [(卫, 1.0)]  \n长城战                                          [(安, 1.0)]  \n魏战                                           [(安, 1.0)]  \n扶桑刺   [(卫, 0.36082474226804123), (稷, 0.3505154639175...  \n稷下战   [(安, 0.6440677966101694), (魏, 0.16949152542372...  \n轻战守约  [(安, 0.6666666666666666), (吴, 0.33333333333333...  \n魔坦刺   [(稷, 0.8181818181818182), (神, 0.09090909090909...  \n蜀国    [(安, 0.3684210526315789), (魏, 0.26315789473684...  \n弟弟蜀                                          [(卫, 1.0)]  \n七射    [(魏, 0.5789473684210527), (尧, 0.36842105263157...  \n法奶    [(卫, 0.6842105263157895), (蜀, 0.26315789473684...  \n弟妹法   [(蜀, 0.6666666666666666), (稷, 0.33333333333333...  \n坦法                                           [(尧, 1.0)]  \n九战    [(安, 0.5), (吴, 0.3333333333333333), (稷, 0.1666...  \n魔种    [(稷, 0.8181818181818182), (安, 0.09090909090909...  ",
      "text/html": "<div>\n<style scoped>\n    .dataframe tbody tr th:only-of-type {\n        vertical-align: middle;\n    }\n\n    .dataframe tbody tr th {\n        vertical-align: top;\n    }\n\n    .dataframe thead th {\n        text-align: right;\n    }\n</style>\n<table border=\"1\" class=\"dataframe\">\n  <thead>\n    <tr style=\"text-align: right;\">\n      <th></th>\n      <th>平均分数</th>\n      <th>平均排名</th>\n      <th>排名方差</th>\n      <th>出场次数</th>\n      <th>登顶次数</th>\n      <th>登顶率</th>\n      <th>前三次数</th>\n      <th>前三率</th>\n      <th>阵容选用</th>\n    </tr>\n    <tr>\n      <th>阵容</th>\n      <th></th>\n      <th></th>\n      <th></th>\n      <th></th>\n      <th></th>\n      <th></th>\n      <th></th>\n      <th></th>\n      <th></th>\n    </tr>\n  </thead>\n  <tbody>\n    <tr>\n      <th>攻辅蛋</th>\n      <td>9.000000</td>\n      <td>2.000000</td>\n      <td>-</td>\n      <td>1</td>\n      <td>0</td>\n      <td>0.000000</td>\n      <td>1</td>\n      <td>1.000000</td>\n      <td>[(蜀, 1.0)]</td>\n    </tr>\n    <tr>\n      <th>弟弟射</th>\n      <td>6.777778</td>\n      <td>3.444444</td>\n      <td>5.2254</td>\n      <td>36</td>\n      <td>9</td>\n      <td>0.250000</td>\n      <td>21</td>\n      <td>0.583333</td>\n      <td>[(蜀, 1.0)]</td>\n    </tr>\n    <tr>\n      <th>攻辅射</th>\n      <td>5.600000</td>\n      <td>4.133333</td>\n      <td>6.11954</td>\n      <td>30</td>\n      <td>5</td>\n      <td>0.166667</td>\n      <td>15</td>\n      <td>0.500000</td>\n      <td>[(蜀, 0.3333333333333333), (卫, 0.33333333333333...</td>\n    </tr>\n    <tr>\n      <th>扶桑法</th>\n      <td>5.000000</td>\n      <td>4.000000</td>\n      <td>-</td>\n      <td>1</td>\n      <td>0</td>\n      <td>0.000000</td>\n      <td>0</td>\n      <td>0.000000</td>\n      <td>[(卫, 1.0)]</td>\n    </tr>\n    <tr>\n      <th>长城战</th>\n      <td>5.000000</td>\n      <td>4.000000</td>\n      <td>-</td>\n      <td>1</td>\n      <td>0</td>\n      <td>0.000000</td>\n      <td>0</td>\n      <td>0.000000</td>\n      <td>[(安, 1.0)]</td>\n    </tr>\n    <tr>\n      <th>魏战</th>\n      <td>5.000000</td>\n      <td>4.000000</td>\n      <td>-</td>\n      <td>1</td>\n      <td>0</td>\n      <td>0.000000</td>\n      <td>0</td>\n      <td>0.000000</td>\n      <td>[(安, 1.0)]</td>\n    </tr>\n    <tr>\n      <th>扶桑刺</th>\n      <td>4.969072</td>\n      <td>4.443299</td>\n      <td>5.37436</td>\n      <td>97</td>\n      <td>12</td>\n      <td>0.123711</td>\n      <td>36</td>\n      <td>0.371134</td>\n      <td>[(卫, 0.36082474226804123), (稷, 0.3505154639175...</td>\n    </tr>\n    <tr>\n      <th>稷下战</th>\n      <td>4.728814</td>\n      <td>4.508475</td>\n      <td>4.39217</td>\n      <td>59</td>\n      <td>6</td>\n      <td>0.101695</td>\n      <td>20</td>\n      <td>0.338983</td>\n      <td>[(安, 0.6440677966101694), (魏, 0.16949152542372...</td>\n    </tr>\n    <tr>\n      <th>轻战守约</th>\n      <td>4.666667</td>\n      <td>5.000000</td>\n      <td>13</td>\n      <td>3</td>\n      <td>1</td>\n      <td>0.333333</td>\n      <td>1</td>\n      <td>0.333333</td>\n      <td>[(安, 0.6666666666666666), (吴, 0.33333333333333...</td>\n    </tr>\n    <tr>\n      <th>魔坦刺</th>\n      <td>4.545455</td>\n      <td>4.818182</td>\n      <td>6.96364</td>\n      <td>11</td>\n      <td>2</td>\n      <td>0.181818</td>\n      <td>4</td>\n      <td>0.363636</td>\n      <td>[(稷, 0.8181818181818182), (神, 0.09090909090909...</td>\n    </tr>\n    <tr>\n      <th>蜀国</th>\n      <td>4.368421</td>\n      <td>4.736842</td>\n      <td>4.64912</td>\n      <td>19</td>\n      <td>1</td>\n      <td>0.052632</td>\n      <td>7</td>\n      <td>0.368421</td>\n      <td>[(安, 0.3684210526315789), (魏, 0.26315789473684...</td>\n    </tr>\n    <tr>\n      <th>弟弟蜀</th>\n      <td>4.000000</td>\n      <td>5.000000</td>\n      <td>8</td>\n      <td>2</td>\n      <td>0</td>\n      <td>0.000000</td>\n      <td>1</td>\n      <td>0.500000</td>\n      <td>[(卫, 1.0)]</td>\n    </tr>\n    <tr>\n      <th>七射</th>\n      <td>3.894737</td>\n      <td>5.052632</td>\n      <td>4.7193</td>\n      <td>19</td>\n      <td>0</td>\n      <td>0.000000</td>\n      <td>7</td>\n      <td>0.368421</td>\n      <td>[(魏, 0.5789473684210527), (尧, 0.36842105263157...</td>\n    </tr>\n    <tr>\n      <th>法奶</th>\n      <td>3.789474</td>\n      <td>5.157895</td>\n      <td>5.36257</td>\n      <td>19</td>\n      <td>3</td>\n      <td>0.157895</td>\n      <td>4</td>\n      <td>0.210526</td>\n      <td>[(卫, 0.6842105263157895), (蜀, 0.26315789473684...</td>\n    </tr>\n    <tr>\n      <th>弟妹法</th>\n      <td>3.333333</td>\n      <td>5.333333</td>\n      <td>4.33333</td>\n      <td>3</td>\n      <td>0</td>\n      <td>0.000000</td>\n      <td>1</td>\n      <td>0.333333</td>\n      <td>[(蜀, 0.6666666666666666), (稷, 0.33333333333333...</td>\n    </tr>\n    <tr>\n      <th>坦法</th>\n      <td>3.000000</td>\n      <td>5.000000</td>\n      <td>-</td>\n      <td>1</td>\n      <td>0</td>\n      <td>0.000000</td>\n      <td>0</td>\n      <td>0.000000</td>\n      <td>[(尧, 1.0)]</td>\n    </tr>\n    <tr>\n      <th>九战</th>\n      <td>3.000000</td>\n      <td>5.833333</td>\n      <td>6.96667</td>\n      <td>6</td>\n      <td>1</td>\n      <td>0.166667</td>\n      <td>1</td>\n      <td>0.166667</td>\n      <td>[(安, 0.5), (吴, 0.3333333333333333), (稷, 0.1666...</td>\n    </tr>\n    <tr>\n      <th>魔种</th>\n      <td>2.818182</td>\n      <td>5.727273</td>\n      <td>3.81818</td>\n      <td>11</td>\n      <td>0</td>\n      <td>0.000000</td>\n      <td>1</td>\n      <td>0.090909</td>\n      <td>[(稷, 0.8181818181818182), (安, 0.09090909090909...</td>\n    </tr>\n  </tbody>\n</table>\n</div>"
     },
     "metadata": {},
     "output_type": "display_data"
    },
    {
     "data": {
      "text/plain": "          平均分数      平均排名      排名方差  出场次数  登顶次数       登顶率  前三次数       前三率  \\\nban位                                                                       \n蜀     6.203125  3.750000  5.269841    64    13  0.203125    34  0.531250   \n安     4.925926  4.462963  5.272187    54     8  0.148148    20  0.370370   \n卫     4.890625  4.421875  4.628720    64     6  0.093750    24  0.375000   \n稷     4.736842  4.578947  5.212406    57     8  0.140351    19  0.333333   \n魏     4.240741  4.888889  5.270440    54     3  0.055556    17  0.314815   \n吴     3.500000  5.428571  5.956044    14     2  0.142857     3  0.214286   \n尧     2.833333  5.750000  4.568182    12     0  0.000000     3  0.250000   \n神     2.000000  6.000000       NaN     1     0  0.000000     0  0.000000   \n\n                                                   阵容选用  \nban位                                                     \n蜀     [(弟弟射, 36), (攻辅射, 10), (稷下战, 6), (法奶, 5), (扶桑刺...  \n安     [(稷下战, 38), (蜀国, 7), (九战, 3), (轻战守约, 2), (魔种, ...  \n卫     [(扶桑刺, 35), (法奶, 13), (攻辅射, 10), (蜀国, 2), (弟弟蜀...  \n稷     [(扶桑刺, 34), (魔坦刺, 9), (魔种, 9), (蜀国, 3), (弟妹法, ...  \n魏     [(扶桑刺, 19), (七射, 11), (稷下战, 10), (攻辅射, 9), (蜀国...  \n吴     [(稷下战, 4), (扶桑刺, 3), (蜀国, 2), (九战, 2), (轻战守约, ...  \n尧      [(七射, 7), (扶桑刺, 2), (攻辅射, 1), (稷下战, 1), (坦法, 1)]  \n神                                            [(魔坦刺, 1)]  ",
      "text/html": "<div>\n<style scoped>\n    .dataframe tbody tr th:only-of-type {\n        vertical-align: middle;\n    }\n\n    .dataframe tbody tr th {\n        vertical-align: top;\n    }\n\n    .dataframe thead th {\n        text-align: right;\n    }\n</style>\n<table border=\"1\" class=\"dataframe\">\n  <thead>\n    <tr style=\"text-align: right;\">\n      <th></th>\n      <th>平均分数</th>\n      <th>平均排名</th>\n      <th>排名方差</th>\n      <th>出场次数</th>\n      <th>登顶次数</th>\n      <th>登顶率</th>\n      <th>前三次数</th>\n      <th>前三率</th>\n      <th>阵容选用</th>\n    </tr>\n    <tr>\n      <th>ban位</th>\n      <th></th>\n      <th></th>\n      <th></th>\n      <th></th>\n      <th></th>\n      <th></th>\n      <th></th>\n      <th></th>\n      <th></th>\n    </tr>\n  </thead>\n  <tbody>\n    <tr>\n      <th>蜀</th>\n      <td>6.203125</td>\n      <td>3.750000</td>\n      <td>5.269841</td>\n      <td>64</td>\n      <td>13</td>\n      <td>0.203125</td>\n      <td>34</td>\n      <td>0.531250</td>\n      <td>[(弟弟射, 36), (攻辅射, 10), (稷下战, 6), (法奶, 5), (扶桑刺...</td>\n    </tr>\n    <tr>\n      <th>安</th>\n      <td>4.925926</td>\n      <td>4.462963</td>\n      <td>5.272187</td>\n      <td>54</td>\n      <td>8</td>\n      <td>0.148148</td>\n      <td>20</td>\n      <td>0.370370</td>\n      <td>[(稷下战, 38), (蜀国, 7), (九战, 3), (轻战守约, 2), (魔种, ...</td>\n    </tr>\n    <tr>\n      <th>卫</th>\n      <td>4.890625</td>\n      <td>4.421875</td>\n      <td>4.628720</td>\n      <td>64</td>\n      <td>6</td>\n      <td>0.093750</td>\n      <td>24</td>\n      <td>0.375000</td>\n      <td>[(扶桑刺, 35), (法奶, 13), (攻辅射, 10), (蜀国, 2), (弟弟蜀...</td>\n    </tr>\n    <tr>\n      <th>稷</th>\n      <td>4.736842</td>\n      <td>4.578947</td>\n      <td>5.212406</td>\n      <td>57</td>\n      <td>8</td>\n      <td>0.140351</td>\n      <td>19</td>\n      <td>0.333333</td>\n      <td>[(扶桑刺, 34), (魔坦刺, 9), (魔种, 9), (蜀国, 3), (弟妹法, ...</td>\n    </tr>\n    <tr>\n      <th>魏</th>\n      <td>4.240741</td>\n      <td>4.888889</td>\n      <td>5.270440</td>\n      <td>54</td>\n      <td>3</td>\n      <td>0.055556</td>\n      <td>17</td>\n      <td>0.314815</td>\n      <td>[(扶桑刺, 19), (七射, 11), (稷下战, 10), (攻辅射, 9), (蜀国...</td>\n    </tr>\n    <tr>\n      <th>吴</th>\n      <td>3.500000</td>\n      <td>5.428571</td>\n      <td>5.956044</td>\n      <td>14</td>\n      <td>2</td>\n      <td>0.142857</td>\n      <td>3</td>\n      <td>0.214286</td>\n      <td>[(稷下战, 4), (扶桑刺, 3), (蜀国, 2), (九战, 2), (轻战守约, ...</td>\n    </tr>\n    <tr>\n      <th>尧</th>\n      <td>2.833333</td>\n      <td>5.750000</td>\n      <td>4.568182</td>\n      <td>12</td>\n      <td>0</td>\n      <td>0.000000</td>\n      <td>3</td>\n      <td>0.250000</td>\n      <td>[(七射, 7), (扶桑刺, 2), (攻辅射, 1), (稷下战, 1), (坦法, 1)]</td>\n    </tr>\n    <tr>\n      <th>神</th>\n      <td>2.000000</td>\n      <td>6.000000</td>\n      <td>NaN</td>\n      <td>1</td>\n      <td>0</td>\n      <td>0.000000</td>\n      <td>0</td>\n      <td>0.000000</td>\n      <td>[(魔坦刺, 1)]</td>\n    </tr>\n  </tbody>\n</table>\n</div>"
     },
     "metadata": {},
     "output_type": "display_data"
    },
    {
     "data": {
      "text/plain": "                 平均分数      平均排名      排名方差  出场次数  登顶次数       登顶率  前三次数  \\\n俱乐部                                                                     \nDYG          6.200000  3.800000  5.600000    15     4  0.266667     7   \nKS.YTG       6.100000  3.800000  5.511111    10     2  0.200000     5   \nCW           6.066667  3.933333  6.923810    15     4  0.266667     7   \nXQ           6.000000  3.900000  6.766667    10     1  0.100000     5   \nKSSC         6.000000  3.933333  6.495238    15     3  0.200000     8   \n成都AG超玩会      5.733333  3.933333  4.352381    15     2  0.133333     6   \nMQ           5.600000  4.300000  8.455556    10     3  0.300000     4   \n重庆QGScholar  5.600000  4.400000  9.822222    10     3  0.300000     5   \nNMG          5.533333  4.066667  5.066667    15     2  0.133333     8   \nRSG          5.500000  4.000000  4.000000    10     1  0.100000     5   \nRNG.M        4.933333  4.400000  4.828571    15     1  0.066667     6   \n佛山GK         4.900000  4.500000  5.833333    10     2  0.200000     3   \n西安WE         4.666667  4.600000  5.685714    15     1  0.066667     5   \nWB.TS        4.600000  4.533333  4.409524    15     1  0.066667     5   \nVG           4.533333  4.600000  4.114286    15     1  0.066667     5   \n杭州LGD大鹅      4.500000  4.600000  4.711111    10     0  0.000000     4   \n广州TTG        4.400000  4.600000  3.257143    15     1  0.066667     5   \n武汉eStar      4.400000  4.800000  5.955556    10     2  0.200000     3   \n上海EDG.M      4.133333  5.000000  5.857143    15     1  0.066667     4   \nTES          4.066667  4.866667  4.838095    15     1  0.066667     5   \nACT          4.066667  4.866667  3.980952    15     0  0.000000     5   \nLX蓝翔         3.933333  5.133333  5.980952    15     2  0.133333     4   \nRW侠          3.400000  5.333333  4.380952    15     1  0.066667     3   \nXROCK        3.333333  5.533333  5.838095    15     1  0.066667     3   \n\n                  前三率                                               阵容选用  \n俱乐部                                                                       \nDYG          0.466667  [(稷下战, 4), (扶桑刺, 3), (攻辅射, 3), (法奶, 1), (七射, 1...  \nKS.YTG       0.500000                     [(扶桑刺, 6), (稷下战, 3), (攻辅射, 1)]  \nCW           0.466667  [(扶桑刺, 5), (弟弟射, 3), (魔种, 2), (稷下战, 2), (蜀国, 1...  \nXQ           0.500000  [(扶桑刺, 5), (弟弟射, 2), (攻辅射, 1), (稷下战, 1), (蜀国, 1)]  \nKSSC         0.533333  [(攻辅射, 7), (扶桑刺, 4), (魔种, 1), (九战, 1), (蜀国, 1)...  \n成都AG超玩会      0.400000  [(扶桑刺, 5), (弟弟射, 3), (蜀国, 2), (七射, 1), (扶桑法, 1...  \nMQ           0.400000   [(扶桑刺, 4), (魔种, 2), (稷下战, 2), (七射, 1), (弟弟射, 1)]  \n重庆QGScholar  0.500000                     [(扶桑刺, 6), (弟弟射, 2), (稷下战, 2)]  \nNMG          0.533333  [(扶桑刺, 5), (弟弟射, 3), (稷下战, 2), (蜀国, 1), (攻辅射, ...  \nRSG          0.500000  [(稷下战, 2), (扶桑刺, 2), (魔坦刺, 1), (攻辅射, 1), (弟弟射,...  \nRNG.M        0.400000  [(扶桑刺, 5), (稷下战, 3), (轻战守约, 2), (攻辅射, 2), (蜀国,...  \n佛山GK         0.300000            [(稷下战, 5), (扶桑刺, 2), (魔种, 2), (弟弟射, 1)]  \n西安WE         0.333333  [(扶桑刺, 5), (攻辅射, 2), (弟弟射, 2), (稷下战, 1), (七射, ...  \nWB.TS        0.333333  [(稷下战, 5), (攻辅射, 3), (魔坦刺, 2), (弟弟射, 2), (法奶, ...  \nVG           0.333333  [(扶桑刺, 4), (稷下战, 4), (七射, 2), (弟弟射, 2), (法奶, 1...  \n杭州LGD大鹅      0.400000  [(稷下战, 5), (扶桑刺, 2), (弟弟射, 1), (蜀国, 1), (攻辅射, 1)]  \n广州TTG        0.333333  [(扶桑刺, 5), (七射, 3), (法奶, 3), (九战, 1), (稷下战, 1)...  \n武汉eStar      0.300000  [(扶桑刺, 2), (弟弟射, 2), (法奶, 2), (七射, 2), (蜀国, 1)...  \n上海EDG.M      0.266667  [(扶桑刺, 3), (七射, 2), (攻辅射, 2), (法奶, 2), (稷下战, 2...  \nTES          0.333333  [(扶桑刺, 4), (稷下战, 3), (弟弟射, 3), (魔坦刺, 2), (七射, ...  \nACT          0.333333  [(稷下战, 4), (攻辅射, 2), (扶桑刺, 2), (魔坦刺, 2), (蜀国, ...  \nLX蓝翔         0.266667  [(法奶, 3), (稷下战, 3), (弟弟射, 2), (扶桑刺, 2), (魔坦刺, ...  \nRW侠          0.200000  [(扶桑刺, 7), (稷下战, 2), (攻辅射, 2), (七射, 1), (法奶, 1...  \nXROCK        0.200000  [(扶桑刺, 8), (稷下战, 2), (弟弟射, 2), (七射, 1), (蜀国, 1...  ",
      "text/html": "<div>\n<style scoped>\n    .dataframe tbody tr th:only-of-type {\n        vertical-align: middle;\n    }\n\n    .dataframe tbody tr th {\n        vertical-align: top;\n    }\n\n    .dataframe thead th {\n        text-align: right;\n    }\n</style>\n<table border=\"1\" class=\"dataframe\">\n  <thead>\n    <tr style=\"text-align: right;\">\n      <th></th>\n      <th>平均分数</th>\n      <th>平均排名</th>\n      <th>排名方差</th>\n      <th>出场次数</th>\n      <th>登顶次数</th>\n      <th>登顶率</th>\n      <th>前三次数</th>\n      <th>前三率</th>\n      <th>阵容选用</th>\n    </tr>\n    <tr>\n      <th>俱乐部</th>\n      <th></th>\n      <th></th>\n      <th></th>\n      <th></th>\n      <th></th>\n      <th></th>\n      <th></th>\n      <th></th>\n      <th></th>\n    </tr>\n  </thead>\n  <tbody>\n    <tr>\n      <th>DYG</th>\n      <td>6.200000</td>\n      <td>3.800000</td>\n      <td>5.600000</td>\n      <td>15</td>\n      <td>4</td>\n      <td>0.266667</td>\n      <td>7</td>\n      <td>0.466667</td>\n      <td>[(稷下战, 4), (扶桑刺, 3), (攻辅射, 3), (法奶, 1), (七射, 1...</td>\n    </tr>\n    <tr>\n      <th>KS.YTG</th>\n      <td>6.100000</td>\n      <td>3.800000</td>\n      <td>5.511111</td>\n      <td>10</td>\n      <td>2</td>\n      <td>0.200000</td>\n      <td>5</td>\n      <td>0.500000</td>\n      <td>[(扶桑刺, 6), (稷下战, 3), (攻辅射, 1)]</td>\n    </tr>\n    <tr>\n      <th>CW</th>\n      <td>6.066667</td>\n      <td>3.933333</td>\n      <td>6.923810</td>\n      <td>15</td>\n      <td>4</td>\n      <td>0.266667</td>\n      <td>7</td>\n      <td>0.466667</td>\n      <td>[(扶桑刺, 5), (弟弟射, 3), (魔种, 2), (稷下战, 2), (蜀国, 1...</td>\n    </tr>\n    <tr>\n      <th>XQ</th>\n      <td>6.000000</td>\n      <td>3.900000</td>\n      <td>6.766667</td>\n      <td>10</td>\n      <td>1</td>\n      <td>0.100000</td>\n      <td>5</td>\n      <td>0.500000</td>\n      <td>[(扶桑刺, 5), (弟弟射, 2), (攻辅射, 1), (稷下战, 1), (蜀国, 1)]</td>\n    </tr>\n    <tr>\n      <th>KSSC</th>\n      <td>6.000000</td>\n      <td>3.933333</td>\n      <td>6.495238</td>\n      <td>15</td>\n      <td>3</td>\n      <td>0.200000</td>\n      <td>8</td>\n      <td>0.533333</td>\n      <td>[(攻辅射, 7), (扶桑刺, 4), (魔种, 1), (九战, 1), (蜀国, 1)...</td>\n    </tr>\n    <tr>\n      <th>成都AG超玩会</th>\n      <td>5.733333</td>\n      <td>3.933333</td>\n      <td>4.352381</td>\n      <td>15</td>\n      <td>2</td>\n      <td>0.133333</td>\n      <td>6</td>\n      <td>0.400000</td>\n      <td>[(扶桑刺, 5), (弟弟射, 3), (蜀国, 2), (七射, 1), (扶桑法, 1...</td>\n    </tr>\n    <tr>\n      <th>MQ</th>\n      <td>5.600000</td>\n      <td>4.300000</td>\n      <td>8.455556</td>\n      <td>10</td>\n      <td>3</td>\n      <td>0.300000</td>\n      <td>4</td>\n      <td>0.400000</td>\n      <td>[(扶桑刺, 4), (魔种, 2), (稷下战, 2), (七射, 1), (弟弟射, 1)]</td>\n    </tr>\n    <tr>\n      <th>重庆QGScholar</th>\n      <td>5.600000</td>\n      <td>4.400000</td>\n      <td>9.822222</td>\n      <td>10</td>\n      <td>3</td>\n      <td>0.300000</td>\n      <td>5</td>\n      <td>0.500000</td>\n      <td>[(扶桑刺, 6), (弟弟射, 2), (稷下战, 2)]</td>\n    </tr>\n    <tr>\n      <th>NMG</th>\n      <td>5.533333</td>\n      <td>4.066667</td>\n      <td>5.066667</td>\n      <td>15</td>\n      <td>2</td>\n      <td>0.133333</td>\n      <td>8</td>\n      <td>0.533333</td>\n      <td>[(扶桑刺, 5), (弟弟射, 3), (稷下战, 2), (蜀国, 1), (攻辅射, ...</td>\n    </tr>\n    <tr>\n      <th>RSG</th>\n      <td>5.500000</td>\n      <td>4.000000</td>\n      <td>4.000000</td>\n      <td>10</td>\n      <td>1</td>\n      <td>0.100000</td>\n      <td>5</td>\n      <td>0.500000</td>\n      <td>[(稷下战, 2), (扶桑刺, 2), (魔坦刺, 1), (攻辅射, 1), (弟弟射,...</td>\n    </tr>\n    <tr>\n      <th>RNG.M</th>\n      <td>4.933333</td>\n      <td>4.400000</td>\n      <td>4.828571</td>\n      <td>15</td>\n      <td>1</td>\n      <td>0.066667</td>\n      <td>6</td>\n      <td>0.400000</td>\n      <td>[(扶桑刺, 5), (稷下战, 3), (轻战守约, 2), (攻辅射, 2), (蜀国,...</td>\n    </tr>\n    <tr>\n      <th>佛山GK</th>\n      <td>4.900000</td>\n      <td>4.500000</td>\n      <td>5.833333</td>\n      <td>10</td>\n      <td>2</td>\n      <td>0.200000</td>\n      <td>3</td>\n      <td>0.300000</td>\n      <td>[(稷下战, 5), (扶桑刺, 2), (魔种, 2), (弟弟射, 1)]</td>\n    </tr>\n    <tr>\n      <th>西安WE</th>\n      <td>4.666667</td>\n      <td>4.600000</td>\n      <td>5.685714</td>\n      <td>15</td>\n      <td>1</td>\n      <td>0.066667</td>\n      <td>5</td>\n      <td>0.333333</td>\n      <td>[(扶桑刺, 5), (攻辅射, 2), (弟弟射, 2), (稷下战, 1), (七射, ...</td>\n    </tr>\n    <tr>\n      <th>WB.TS</th>\n      <td>4.600000</td>\n      <td>4.533333</td>\n      <td>4.409524</td>\n      <td>15</td>\n      <td>1</td>\n      <td>0.066667</td>\n      <td>5</td>\n      <td>0.333333</td>\n      <td>[(稷下战, 5), (攻辅射, 3), (魔坦刺, 2), (弟弟射, 2), (法奶, ...</td>\n    </tr>\n    <tr>\n      <th>VG</th>\n      <td>4.533333</td>\n      <td>4.600000</td>\n      <td>4.114286</td>\n      <td>15</td>\n      <td>1</td>\n      <td>0.066667</td>\n      <td>5</td>\n      <td>0.333333</td>\n      <td>[(扶桑刺, 4), (稷下战, 4), (七射, 2), (弟弟射, 2), (法奶, 1...</td>\n    </tr>\n    <tr>\n      <th>杭州LGD大鹅</th>\n      <td>4.500000</td>\n      <td>4.600000</td>\n      <td>4.711111</td>\n      <td>10</td>\n      <td>0</td>\n      <td>0.000000</td>\n      <td>4</td>\n      <td>0.400000</td>\n      <td>[(稷下战, 5), (扶桑刺, 2), (弟弟射, 1), (蜀国, 1), (攻辅射, 1)]</td>\n    </tr>\n    <tr>\n      <th>广州TTG</th>\n      <td>4.400000</td>\n      <td>4.600000</td>\n      <td>3.257143</td>\n      <td>15</td>\n      <td>1</td>\n      <td>0.066667</td>\n      <td>5</td>\n      <td>0.333333</td>\n      <td>[(扶桑刺, 5), (七射, 3), (法奶, 3), (九战, 1), (稷下战, 1)...</td>\n    </tr>\n    <tr>\n      <th>武汉eStar</th>\n      <td>4.400000</td>\n      <td>4.800000</td>\n      <td>5.955556</td>\n      <td>10</td>\n      <td>2</td>\n      <td>0.200000</td>\n      <td>3</td>\n      <td>0.300000</td>\n      <td>[(扶桑刺, 2), (弟弟射, 2), (法奶, 2), (七射, 2), (蜀国, 1)...</td>\n    </tr>\n    <tr>\n      <th>上海EDG.M</th>\n      <td>4.133333</td>\n      <td>5.000000</td>\n      <td>5.857143</td>\n      <td>15</td>\n      <td>1</td>\n      <td>0.066667</td>\n      <td>4</td>\n      <td>0.266667</td>\n      <td>[(扶桑刺, 3), (七射, 2), (攻辅射, 2), (法奶, 2), (稷下战, 2...</td>\n    </tr>\n    <tr>\n      <th>TES</th>\n      <td>4.066667</td>\n      <td>4.866667</td>\n      <td>4.838095</td>\n      <td>15</td>\n      <td>1</td>\n      <td>0.066667</td>\n      <td>5</td>\n      <td>0.333333</td>\n      <td>[(扶桑刺, 4), (稷下战, 3), (弟弟射, 3), (魔坦刺, 2), (七射, ...</td>\n    </tr>\n    <tr>\n      <th>ACT</th>\n      <td>4.066667</td>\n      <td>4.866667</td>\n      <td>3.980952</td>\n      <td>15</td>\n      <td>0</td>\n      <td>0.000000</td>\n      <td>5</td>\n      <td>0.333333</td>\n      <td>[(稷下战, 4), (攻辅射, 2), (扶桑刺, 2), (魔坦刺, 2), (蜀国, ...</td>\n    </tr>\n    <tr>\n      <th>LX蓝翔</th>\n      <td>3.933333</td>\n      <td>5.133333</td>\n      <td>5.980952</td>\n      <td>15</td>\n      <td>2</td>\n      <td>0.133333</td>\n      <td>4</td>\n      <td>0.266667</td>\n      <td>[(法奶, 3), (稷下战, 3), (弟弟射, 2), (扶桑刺, 2), (魔坦刺, ...</td>\n    </tr>\n    <tr>\n      <th>RW侠</th>\n      <td>3.400000</td>\n      <td>5.333333</td>\n      <td>4.380952</td>\n      <td>15</td>\n      <td>1</td>\n      <td>0.066667</td>\n      <td>3</td>\n      <td>0.200000</td>\n      <td>[(扶桑刺, 7), (稷下战, 2), (攻辅射, 2), (七射, 1), (法奶, 1...</td>\n    </tr>\n    <tr>\n      <th>XROCK</th>\n      <td>3.333333</td>\n      <td>5.533333</td>\n      <td>5.838095</td>\n      <td>15</td>\n      <td>1</td>\n      <td>0.066667</td>\n      <td>3</td>\n      <td>0.200000</td>\n      <td>[(扶桑刺, 8), (稷下战, 2), (弟弟射, 2), (七射, 1), (蜀国, 1...</td>\n    </tr>\n  </tbody>\n</table>\n</div>"
     },
     "metadata": {},
     "output_type": "display_data"
    },
    {
     "data": {
      "text/plain": "     平均分数      平均排名      排名方差  出场次数  登顶次数       登顶率  前三次数       前三率  \\\n选手                                                                    \n童小话  11.0  1.333333  0.333333     3     2  0.666667     3  1.000000   \n奕将   10.0  1.666667  0.333333     3     1  0.333333     3  1.000000   \nray   8.5  2.500000  3.500000     6     2  0.333333     5  0.833333   \n简若    8.4  2.800000  7.200000     5     3  0.600000     3  0.600000   \n噢吼    8.0  2.666667  2.333333     3     1  0.333333     2  0.666667   \n..    ...       ...       ...   ...   ...       ...   ...       ...   \n花花    1.0  7.000000       NaN     1     0  0.000000     0  0.000000   \n莫然    1.0  7.000000       NaN     1     0  0.000000     0  0.000000   \n风流    1.0  7.000000       NaN     1     0  0.000000     0  0.000000   \n小泥巴   0.0  8.000000       NaN     1     0  0.000000     0  0.000000   \n年久    0.0  8.000000       NaN     1     0  0.000000     0  0.000000   \n\n                               阵容选用  \n选手                                   \n童小话                      [(扶桑刺, 3)]  \n奕将             [(弟弟射, 2), (稷下战, 1)]  \nray            [(攻辅射, 5), (扶桑刺, 1)]  \n简若   [(弟弟射, 3), (扶桑刺, 1), (稷下战, 1)]  \n噢吼    [(扶桑刺, 1), (弟弟蜀, 1), (九战, 1)]  \n..                              ...  \n花花                        [(七射, 1)]  \n莫然                        [(九战, 1)]  \n风流                       [(扶桑刺, 1)]  \n小泥巴                      [(扶桑刺, 1)]  \n年久                        [(法奶, 1)]  \n\n[85 rows x 9 columns]",
      "text/html": "<div>\n<style scoped>\n    .dataframe tbody tr th:only-of-type {\n        vertical-align: middle;\n    }\n\n    .dataframe tbody tr th {\n        vertical-align: top;\n    }\n\n    .dataframe thead th {\n        text-align: right;\n    }\n</style>\n<table border=\"1\" class=\"dataframe\">\n  <thead>\n    <tr style=\"text-align: right;\">\n      <th></th>\n      <th>平均分数</th>\n      <th>平均排名</th>\n      <th>排名方差</th>\n      <th>出场次数</th>\n      <th>登顶次数</th>\n      <th>登顶率</th>\n      <th>前三次数</th>\n      <th>前三率</th>\n      <th>阵容选用</th>\n    </tr>\n    <tr>\n      <th>选手</th>\n      <th></th>\n      <th></th>\n      <th></th>\n      <th></th>\n      <th></th>\n      <th></th>\n      <th></th>\n      <th></th>\n      <th></th>\n    </tr>\n  </thead>\n  <tbody>\n    <tr>\n      <th>童小话</th>\n      <td>11.0</td>\n      <td>1.333333</td>\n      <td>0.333333</td>\n      <td>3</td>\n      <td>2</td>\n      <td>0.666667</td>\n      <td>3</td>\n      <td>1.000000</td>\n      <td>[(扶桑刺, 3)]</td>\n    </tr>\n    <tr>\n      <th>奕将</th>\n      <td>10.0</td>\n      <td>1.666667</td>\n      <td>0.333333</td>\n      <td>3</td>\n      <td>1</td>\n      <td>0.333333</td>\n      <td>3</td>\n      <td>1.000000</td>\n      <td>[(弟弟射, 2), (稷下战, 1)]</td>\n    </tr>\n    <tr>\n      <th>ray</th>\n      <td>8.5</td>\n      <td>2.500000</td>\n      <td>3.500000</td>\n      <td>6</td>\n      <td>2</td>\n      <td>0.333333</td>\n      <td>5</td>\n      <td>0.833333</td>\n      <td>[(攻辅射, 5), (扶桑刺, 1)]</td>\n    </tr>\n    <tr>\n      <th>简若</th>\n      <td>8.4</td>\n      <td>2.800000</td>\n      <td>7.200000</td>\n      <td>5</td>\n      <td>3</td>\n      <td>0.600000</td>\n      <td>3</td>\n      <td>0.600000</td>\n      <td>[(弟弟射, 3), (扶桑刺, 1), (稷下战, 1)]</td>\n    </tr>\n    <tr>\n      <th>噢吼</th>\n      <td>8.0</td>\n      <td>2.666667</td>\n      <td>2.333333</td>\n      <td>3</td>\n      <td>1</td>\n      <td>0.333333</td>\n      <td>2</td>\n      <td>0.666667</td>\n      <td>[(扶桑刺, 1), (弟弟蜀, 1), (九战, 1)]</td>\n    </tr>\n    <tr>\n      <th>...</th>\n      <td>...</td>\n      <td>...</td>\n      <td>...</td>\n      <td>...</td>\n      <td>...</td>\n      <td>...</td>\n      <td>...</td>\n      <td>...</td>\n      <td>...</td>\n    </tr>\n    <tr>\n      <th>花花</th>\n      <td>1.0</td>\n      <td>7.000000</td>\n      <td>NaN</td>\n      <td>1</td>\n      <td>0</td>\n      <td>0.000000</td>\n      <td>0</td>\n      <td>0.000000</td>\n      <td>[(七射, 1)]</td>\n    </tr>\n    <tr>\n      <th>莫然</th>\n      <td>1.0</td>\n      <td>7.000000</td>\n      <td>NaN</td>\n      <td>1</td>\n      <td>0</td>\n      <td>0.000000</td>\n      <td>0</td>\n      <td>0.000000</td>\n      <td>[(九战, 1)]</td>\n    </tr>\n    <tr>\n      <th>风流</th>\n      <td>1.0</td>\n      <td>7.000000</td>\n      <td>NaN</td>\n      <td>1</td>\n      <td>0</td>\n      <td>0.000000</td>\n      <td>0</td>\n      <td>0.000000</td>\n      <td>[(扶桑刺, 1)]</td>\n    </tr>\n    <tr>\n      <th>小泥巴</th>\n      <td>0.0</td>\n      <td>8.000000</td>\n      <td>NaN</td>\n      <td>1</td>\n      <td>0</td>\n      <td>0.000000</td>\n      <td>0</td>\n      <td>0.000000</td>\n      <td>[(扶桑刺, 1)]</td>\n    </tr>\n    <tr>\n      <th>年久</th>\n      <td>0.0</td>\n      <td>8.000000</td>\n      <td>NaN</td>\n      <td>1</td>\n      <td>0</td>\n      <td>0.000000</td>\n      <td>0</td>\n      <td>0.000000</td>\n      <td>[(法奶, 1)]</td>\n    </tr>\n  </tbody>\n</table>\n<p>85 rows × 9 columns</p>\n</div>"
     },
     "metadata": {},
     "output_type": "display_data"
    }
   ],
   "source": [
    "def get_comp_statistics(df):\n",
    "    def get_most_ban(x):\n",
    "        c = Counter(x['ban位'])\n",
    "        return [(i, c[i] / len(x)) for i, count in c.most_common()]\n",
    "\n",
    "    groups = df.groupby('阵容')\n",
    "    mean_rank = groups['排名'].mean()\n",
    "    var_rank = groups['排名'].var()\n",
    "    sum_occur = groups['排名'].count()\n",
    "    mean_score = groups['分数'].mean()\n",
    "    top1_cnt = groups['排名'].apply(lambda x: (x == 1).sum())\n",
    "    top1_rate = top1_cnt / sum_occur\n",
    "    top3_cnt = groups['排名'].apply(lambda x: (x <= 3).sum())\n",
    "    top3_rate = top3_cnt / sum_occur\n",
    "    most_ban = groups.apply(get_most_ban)\n",
    "    res = pd.concat([mean_score, mean_rank, var_rank, sum_occur, top1_cnt, top1_rate, top3_cnt, top3_rate, most_ban], axis=1)\n",
    "    res.columns = ('平均分数', '平均排名', '排名方差', '出场次数', '登顶次数', '登顶率', '前三次数', '前三率', '阵容选用')\n",
    "    res = res.sort_values(['平均分数', '平均排名', '登顶率', '前三率'], ascending=[False, True, False, False])\n",
    "    res = res.fillna('-')\n",
    "    return res\n",
    "\n",
    "def get_ban_statistics(df):\n",
    "    def get_most_comp(x):\n",
    "        c = Counter(x['阵容'])\n",
    "        return [(i, c[i]) for i, count in c.most_common()]\n",
    "    groups = df.groupby('ban位')\n",
    "    mean_rank = groups['排名'].mean()\n",
    "    var_rank = groups['排名'].var()\n",
    "    mean_score = groups['分数'].mean()\n",
    "    sum_occur = groups['排名'].count()\n",
    "    top1_cnt = groups['排名'].apply(lambda x: (x == 1).sum())\n",
    "    top1_rate = top1_cnt / sum_occur\n",
    "    top3_cnt = groups['排名'].apply(lambda x: (x <= 3).sum())\n",
    "    top3_rate = top3_cnt / sum_occur\n",
    "    most_comp = groups.apply(get_most_comp)\n",
    "    res = pd.concat([mean_score, mean_rank, var_rank, sum_occur, top1_cnt, top1_rate, top3_cnt, top3_rate, most_comp], axis=1)\n",
    "    res.columns = ('平均分数', '平均排名', '排名方差', '出场次数', '登顶次数', '登顶率', '前三次数', '前三率', '阵容选用')\n",
    "    res = res.sort_values(['平均分数', '平均排名', '登顶率', '前三率'], ascending=[False, True, False, False])\n",
    "    return res\n",
    "\n",
    "\n",
    "def get_team_statistics(df):\n",
    "    def get_most_comp(x):\n",
    "        c = Counter(x['阵容'])\n",
    "        return [(i, c[i]) for i, count in c.most_common()]\n",
    "    groups = df.groupby('俱乐部')\n",
    "    mean_rank = groups['排名'].mean()\n",
    "    var_rank = groups['排名'].var()\n",
    "    mean_score = groups['分数'].mean()\n",
    "    sum_occur = groups['排名'].count()\n",
    "    top1_cnt = groups['排名'].apply(lambda x: (x == 1).sum())\n",
    "    top1_rate = top1_cnt / sum_occur\n",
    "    top3_cnt = groups['排名'].apply(lambda x: (x <= 3).sum())\n",
    "    top3_rate = top3_cnt / sum_occur\n",
    "    most_comp = groups.apply(get_most_comp)\n",
    "    res = pd.concat([mean_score, mean_rank, var_rank, sum_occur, top1_cnt, top1_rate, top3_cnt, top3_rate, most_comp], axis=1)\n",
    "    res.columns = ('平均分数', '平均排名', '排名方差', '出场次数', '登顶次数', '登顶率', '前三次数', '前三率', '阵容选用')\n",
    "    res = res.sort_values(['平均分数', '平均排名', '登顶率', '前三率'], ascending=[False, True, False, False])\n",
    "    return res\n",
    "\n",
    "def get_player_statistics(df):\n",
    "    def get_most_comp(x):\n",
    "        c = Counter(x['阵容'])\n",
    "        return [(i, c[i]) for i, count in c.most_common()]\n",
    "    groups = df.groupby('选手')\n",
    "    mean_rank = groups['排名'].mean()\n",
    "    var_rank = groups['排名'].var()\n",
    "    mean_score = groups['分数'].mean()\n",
    "    sum_occur = groups['排名'].count()\n",
    "    top1_cnt = groups['排名'].apply(lambda x: (x == 1).sum())\n",
    "    top1_rate = top1_cnt / sum_occur\n",
    "    top3_cnt = groups['排名'].apply(lambda x: (x <= 3).sum())\n",
    "    top3_rate = top3_cnt / sum_occur\n",
    "    most_comp = groups.apply(get_most_comp)\n",
    "    res = pd.concat([mean_score, mean_rank, var_rank, sum_occur, top1_cnt, top1_rate, top3_cnt, top3_rate, most_comp], axis=1)\n",
    "    res.columns = ('平均分数', '平均排名', '排名方差', '出场次数', '登顶次数', '登顶率', '前三次数', '前三率', '阵容选用')\n",
    "    res = res.sort_values(['平均分数', '平均排名', '登顶率', '前三率'], ascending=[False, True, False, False])\n",
    "    return res\n",
    "\n",
    "display(get_comp_statistics(df))\n",
    "display(get_ban_statistics(df))\n",
    "display(get_team_statistics(df))\n",
    "display(get_player_statistics(df))"
   ],
   "metadata": {
    "collapsed": false,
    "pycharm": {
     "name": "#%%\n"
    }
   }
  },
  {
   "cell_type": "code",
   "execution_count": 40,
   "outputs": [
    {
     "data": {
      "text/plain": "           弟弟射  全阵容对比排名\n平均分数   6.77778        1\n平均排名   3.44444        1\n排名方差    5.2254        5\n出场次数        36        3\n登顶率       0.25        1\n前三率   0.583333        1",
      "text/html": "<div>\n<style scoped>\n    .dataframe tbody tr th:only-of-type {\n        vertical-align: middle;\n    }\n\n    .dataframe tbody tr th {\n        vertical-align: top;\n    }\n\n    .dataframe thead th {\n        text-align: right;\n    }\n</style>\n<table border=\"1\" class=\"dataframe\">\n  <thead>\n    <tr style=\"text-align: right;\">\n      <th></th>\n      <th>弟弟射</th>\n      <th>全阵容对比排名</th>\n    </tr>\n  </thead>\n  <tbody>\n    <tr>\n      <th>平均分数</th>\n      <td>6.77778</td>\n      <td>1</td>\n    </tr>\n    <tr>\n      <th>平均排名</th>\n      <td>3.44444</td>\n      <td>1</td>\n    </tr>\n    <tr>\n      <th>排名方差</th>\n      <td>5.2254</td>\n      <td>5</td>\n    </tr>\n    <tr>\n      <th>出场次数</th>\n      <td>36</td>\n      <td>3</td>\n    </tr>\n    <tr>\n      <th>登顶率</th>\n      <td>0.25</td>\n      <td>1</td>\n    </tr>\n    <tr>\n      <th>前三率</th>\n      <td>0.583333</td>\n      <td>1</td>\n    </tr>\n  </tbody>\n</table>\n</div>"
     },
     "metadata": {},
     "output_type": "display_data"
    },
    {
     "data": {
      "text/plain": "             童小话 全选手对比排名\n平均分数          11       1\n平均排名     1.33333       1\n排名方差    0.333333       1\n登顶率     0.666667       1\n前三率            1       1\n出场次数           3       /\n阵容选用  [(扶桑刺, 3)]       /",
      "text/html": "<div>\n<style scoped>\n    .dataframe tbody tr th:only-of-type {\n        vertical-align: middle;\n    }\n\n    .dataframe tbody tr th {\n        vertical-align: top;\n    }\n\n    .dataframe thead th {\n        text-align: right;\n    }\n</style>\n<table border=\"1\" class=\"dataframe\">\n  <thead>\n    <tr style=\"text-align: right;\">\n      <th></th>\n      <th>童小话</th>\n      <th>全选手对比排名</th>\n    </tr>\n  </thead>\n  <tbody>\n    <tr>\n      <th>平均分数</th>\n      <td>11</td>\n      <td>1</td>\n    </tr>\n    <tr>\n      <th>平均排名</th>\n      <td>1.33333</td>\n      <td>1</td>\n    </tr>\n    <tr>\n      <th>排名方差</th>\n      <td>0.333333</td>\n      <td>1</td>\n    </tr>\n    <tr>\n      <th>登顶率</th>\n      <td>0.666667</td>\n      <td>1</td>\n    </tr>\n    <tr>\n      <th>前三率</th>\n      <td>1</td>\n      <td>1</td>\n    </tr>\n    <tr>\n      <th>出场次数</th>\n      <td>3</td>\n      <td>/</td>\n    </tr>\n    <tr>\n      <th>阵容选用</th>\n      <td>[(扶桑刺, 3)]</td>\n      <td>/</td>\n    </tr>\n  </tbody>\n</table>\n</div>"
     },
     "metadata": {},
     "output_type": "display_data"
    },
    {
     "data": {
      "text/plain": "                                                    DYG 全队伍对比排名\n平均分数                                                6.2       1\n平均排名                                                3.8       1\n排名方差                                                5.6      13\n登顶率                                            0.266667       3\n前三率                                            0.466667       7\n出场次数                                                 15       /\n阵容选用  [(稷下战, 4), (扶桑刺, 3), (攻辅射, 3), (法奶, 1), (七射, 1...       /",
      "text/html": "<div>\n<style scoped>\n    .dataframe tbody tr th:only-of-type {\n        vertical-align: middle;\n    }\n\n    .dataframe tbody tr th {\n        vertical-align: top;\n    }\n\n    .dataframe thead th {\n        text-align: right;\n    }\n</style>\n<table border=\"1\" class=\"dataframe\">\n  <thead>\n    <tr style=\"text-align: right;\">\n      <th></th>\n      <th>DYG</th>\n      <th>全队伍对比排名</th>\n    </tr>\n  </thead>\n  <tbody>\n    <tr>\n      <th>平均分数</th>\n      <td>6.2</td>\n      <td>1</td>\n    </tr>\n    <tr>\n      <th>平均排名</th>\n      <td>3.8</td>\n      <td>1</td>\n    </tr>\n    <tr>\n      <th>排名方差</th>\n      <td>5.6</td>\n      <td>13</td>\n    </tr>\n    <tr>\n      <th>登顶率</th>\n      <td>0.266667</td>\n      <td>3</td>\n    </tr>\n    <tr>\n      <th>前三率</th>\n      <td>0.466667</td>\n      <td>7</td>\n    </tr>\n    <tr>\n      <th>出场次数</th>\n      <td>15</td>\n      <td>/</td>\n    </tr>\n    <tr>\n      <th>阵容选用</th>\n      <td>[(稷下战, 4), (扶桑刺, 3), (攻辅射, 3), (法奶, 1), (七射, 1...</td>\n      <td>/</td>\n    </tr>\n  </tbody>\n</table>\n</div>"
     },
     "metadata": {},
     "output_type": "display_data"
    },
    {
     "name": "stdout",
     "output_type": "stream",
     "text": [
      "Wall time: 164 ms\n"
     ]
    }
   ],
   "source": [
    "%%time\n",
    "\n",
    "def report_mvp_comp(comp_stats):\n",
    "    MIN_OCCURENCE = 5\n",
    "    metric_weights = {\n",
    "        '平均分数': [15, False],\n",
    "        '平均排名': [5, True],\n",
    "        '排名方差': [3, True],\n",
    "        '出场次数': [5, False],\n",
    "        '登顶率': [5, False],\n",
    "        '前三率': [3, False]\n",
    "    }\n",
    "    comp_stats = comp_stats[comp_stats['出场次数'] >= MIN_OCCURENCE]\n",
    "    raw_ranks = []\n",
    "    weights = []\n",
    "    for metric, value in metric_weights.items():\n",
    "        weight, ascending = value\n",
    "        metric_rank = comp_stats[metric].rank(ascending=ascending, method='min').astype(int)\n",
    "        raw_ranks.append(metric_rank)\n",
    "        weights.append(weight)\n",
    "    comp_rank = sum([r * w for r, w in zip(raw_ranks, weights)]).sort_values()\n",
    "    # print(comp_rank)\n",
    "    mvp_comp = comp_rank.index[0]\n",
    "    # print('本期MVP阵容:', mvp_comp)\n",
    "    mvp_comp_metric_ranks = pd.Series({r.name: r[mvp_comp] for r in raw_ranks})\n",
    "    mvp_comp_metric_values = comp_stats.loc[mvp_comp][mvp_comp_metric_ranks.index].T\n",
    "    res = pd.concat([mvp_comp_metric_values, mvp_comp_metric_ranks], axis=1)\n",
    "    res.columns = [mvp_comp, '全阵容对比排名']\n",
    "    return res\n",
    "comp_stats = get_comp_statistics(df)\n",
    "display(report_mvp_comp(comp_stats))\n",
    "\n",
    "def report_mvp_player(player_stats):\n",
    "    MIN_OCCURENCE = 3\n",
    "    metric_weights = {\n",
    "        '平均分数': [15, False],\n",
    "        '平均排名': [10, True],\n",
    "        '排名方差': [5, True],\n",
    "        '登顶率': [10, False],\n",
    "        '前三率': [5, False],\n",
    "        '出场次数': [0, False],\n",
    "        '阵容选用': [0, False]\n",
    "    }\n",
    "    player_stats = player_stats[player_stats['出场次数'] >= MIN_OCCURENCE]\n",
    "    raw_ranks = []\n",
    "    weights = []\n",
    "    for metric, value in metric_weights.items():\n",
    "        weight, ascending = value\n",
    "        metric_rank = player_stats[metric].rank(ascending=ascending, method='min').astype(int)\n",
    "        raw_ranks.append(metric_rank)\n",
    "        weights.append(weight)\n",
    "    player_rank = sum([r * w for r, w in zip(raw_ranks, weights)]).sort_values()\n",
    "    mvp_player = player_rank.index[0]\n",
    "    # print('本期MVP选手:', mvp_player)\n",
    "    mvp_player_metric_ranks = pd.Series({r.name: r[mvp_player] for r in raw_ranks})\n",
    "    mvp_player_metric_values = player_stats.loc[mvp_player][mvp_player_metric_ranks.index].T\n",
    "    res = pd.concat([mvp_player_metric_values, mvp_player_metric_ranks], axis=1)\n",
    "    res.columns = [mvp_player, '全选手对比排名']\n",
    "    res['全选手对比排名'] = (res['全选手对比排名'] / weights * weights).fillna('/')\n",
    "    return res\n",
    "\n",
    "player_stats = get_player_statistics(df)\n",
    "display(report_mvp_player(player_stats))\n",
    "\n",
    "def report_mvp_team(team_stats):\n",
    "    metric_weights = {\n",
    "        '平均分数': [15, False],\n",
    "        '平均排名': [10, True],\n",
    "        '排名方差': [5, True],\n",
    "        '登顶率': [10, False],\n",
    "        '前三率': [5, False],\n",
    "        '出场次数': [0, False],\n",
    "        '阵容选用': [0, False]\n",
    "    }\n",
    "    raw_ranks = []\n",
    "    weights = []\n",
    "    for metric, value in metric_weights.items():\n",
    "        weight, ascending = value\n",
    "        metric_rank = team_stats[metric].rank(ascending=ascending, method='min').astype(int)\n",
    "        raw_ranks.append(metric_rank)\n",
    "        weights.append(weight)\n",
    "    team_rank = sum([r * w for r, w in zip(raw_ranks, weights)]).sort_values()\n",
    "    mvp_team = team_rank.index[0]\n",
    "    # print('本期MVP选手:', mvp_team)\n",
    "    mvp_team_metric_ranks = pd.Series({r.name: r[mvp_team] for r in raw_ranks})\n",
    "    mvp_team_metric_values = team_stats.loc[mvp_team][mvp_team_metric_ranks.index].T\n",
    "    res = pd.concat([mvp_team_metric_values, mvp_team_metric_ranks], axis=1)\n",
    "    res.columns = [mvp_team, '全队伍对比排名']\n",
    "    res['全队伍对比排名'] = (res['全队伍对比排名'] / weights * weights).fillna('/')\n",
    "    return res\n",
    "\n",
    "team_stats = get_team_statistics(df)\n",
    "display(report_mvp_team(team_stats))"
   ],
   "metadata": {
    "collapsed": false,
    "pycharm": {
     "name": "#%%\n"
    }
   }
  },
  {
   "cell_type": "code",
   "execution_count": 41,
   "outputs": [
    {
     "name": "stdout",
     "output_type": "stream",
     "text": [
      "最长游戏:\n",
      "              选手    详细阵容  回合数         局数  排名\n",
      "120  武汉eStar.小玄策  扶桑群雄法刺   36  第4周低分组第1局   1\n",
      "121     XROCK.痘痘     弟弟射   36  第4周低分组第1局   2\n",
      "144       RW侠.种子   稷下攻辅射   36  第4周低分组第4局   1\n",
      "145   杭州LGD大鹅.六月     稷下战   36  第4周低分组第4局   2\n",
      "296    XROCK.水长东    扶桑法刺   36  第5周中分组第3局   1\n",
      "297     WB.TS.刺儿   封神攻辅射   36  第5周中分组第3局   2\n",
      "\n",
      "最短游戏:\n",
      "              选手   详细阵容  回合数         局数  排名\n",
      "128  武汉eStar.曹老大     蜀国   26  第4周低分组第2局   1\n",
      "129     WB.TS.刺儿    弟弟射   26  第4周低分组第2局   2\n",
      "240   上海EDG.M.阿九    稷下战   26  第5周低分组第1局   1\n",
      "241      ACT.胡老大    弟弟射   26  第5周低分组第1局   2\n",
      "256     广州TTG.七璇    魔坦刺   26  第5周低分组第3局   1\n",
      "257     KSSC.ray  封神攻辅射   26  第5周低分组第3局   2\n",
      "\n",
      "最高质量:\n",
      "选手          CW.简若\n",
      "详细阵容         扶桑法刺\n",
      "质量            177\n",
      "局数      第3周中分组第1局\n",
      "排名              1\n",
      "Name: 40, dtype: object\n",
      "\n",
      "最低质量:\n",
      "选手        MQ.暴躁黑猪\n",
      "详细阵容      魔种(无天赋)\n",
      "质量             33\n",
      "局数      第4周高分组第5局\n",
      "排名              8\n",
      "Name: 239, dtype: object\n",
      "\n",
      "最高输出:\n",
      "选手       广州TTG.七璇\n",
      "详细阵容          魔坦刺\n",
      "输出            261\n",
      "局数      第5周低分组第3局\n",
      "排名              1\n",
      "Name: 256, dtype: object\n",
      "\n",
      "最低输出:\n",
      "选手      KSSC.抓只好棋\n",
      "详细阵容        扶桑群雄刺\n",
      "输出              5\n",
      "局数      第4周高分组第2局\n",
      "排名              8\n",
      "Name: 215, dtype: object\n",
      "\n"
     ]
    }
   ],
   "source": [
    "def report_interesting_data(df):\n",
    "    b_df = df.copy()\n",
    "    b_df['选手'] = b_df['选手'].astype(str)\n",
    "    b_df['俱乐部'] = b_df['俱乐部'].astype(str)\n",
    "    b_df['选手'] = b_df[['俱乐部', '选手']].agg('.'.join, axis=1)\n",
    "    b_df['局数'] = b_df.apply(lambda x: f'第{x[\"周数\"]}周{x.loc[\"分组\"]}第{x.loc[\"局数\"]}局', axis=1)\n",
    "    # 最长游戏回合\n",
    "    longest_game = b_df.loc[b_df['回合数'] == b_df['回合数'].max()][['选手', '详细阵容', '回合数', '局数', '排名']]\n",
    "    print(f'最长游戏:\\n{longest_game}\\n')\n",
    "    # 最短游戏回合\n",
    "    first_twos = b_df.loc[b_df['排名'] <= 2]\n",
    "    shortest_game = first_twos.loc[first_twos['回合数'] == first_twos['回合数'].min()][['选手', '详细阵容', '回合数', '局数', '排名']]\n",
    "    print(f'最短游戏:\\n{shortest_game}\\n')\n",
    "    highest_price = b_df.iloc[b_df['质量'].idxmax()][['选手', '详细阵容', '质量', '局数', '排名']]\n",
    "    print(f'最高质量:\\n{highest_price}\\n')\n",
    "    lowest_price = b_df.iloc[b_df['质量'].idxmin()][['选手', '详细阵容', '质量', '局数', '排名']]\n",
    "    print(f'最低质量:\\n{lowest_price}\\n')\n",
    "    highest_damage = b_df.iloc[b_df['输出'].idxmax()][['选手', '详细阵容', '输出', '局数', '排名']]\n",
    "    print(f'最高输出:\\n{highest_damage}\\n')\n",
    "    lowest_damage = b_df.iloc[b_df['输出'].idxmin()][['选手', '详细阵容', '输出', '局数', '排名']]\n",
    "    print(f'最低输出:\\n{lowest_damage}\\n')\n",
    "\n",
    "report_interesting_data(df)"
   ],
   "metadata": {
    "collapsed": false,
    "pycharm": {
     "name": "#%%\n"
    }
   }
  },
  {
   "cell_type": "code",
   "execution_count": 42,
   "outputs": [],
   "source": [
    "def plot_ban_to_comp(ban_stats, filepath=None):\n",
    "    fig, axs = plt.subplots(1, len(ban_stats), figsize=(30, 4))\n",
    "    for ax, ban in zip(axs, ban_stats.itertuples()):\n",
    "        labels, ys = [m[0] for m in ban[-1]], [m[1] for m in ban[-1]]\n",
    "        colors = [comp_color[re.sub(r'\\([^)]*\\)', '', c).strip()] for c in labels]\n",
    "        explode = [0.015] * len(ys)\n",
    "        def value(val):\n",
    "            return f'{val:.2f}%'\n",
    "        ax.pie(ys, labels=labels, colors=colors, explode=explode, autopct=value, shadow=False, pctdistance=0.6)\n",
    "        ax.set_title(f'{ban[0]} (均分{ban[1]:.2f},出场{ban[4]})', fontsize=15, x=0.5, y=1.01)\n",
    "\n",
    "    fig.tight_layout()\n",
    "    if filepath:\n",
    "        fig.savefig(filepath, dpi=250)\n",
    "    else:\n",
    "        plt.show(fig)\n",
    "    plt.close(fig)\n",
    "\n",
    "def plot_comp_data(comp_stats, filepath=None):\n",
    "    fig, ax = plt.subplots(figsize=(6, 4))\n",
    "    y = comp_stats['平均排名']\n",
    "    x = comp_stats['出场次数']\n",
    "    names = comp_stats.index\n",
    "    ax.scatter(x, y)\n",
    "    ax.set_title('阵容数据')\n",
    "    ax.set_ylabel('平均排名')\n",
    "    ax.set_xlabel('出场次数')\n",
    "    ax.set_xlim(left=0, right=max(x) + 1)\n",
    "    ax.set_ylim(bottom=1, top=8)\n",
    "    ax.hlines(y=4.5, xmin=0, xmax=max(x) + 1, colors='orange', linestyles='--', lw=2, label='理论均值')\n",
    "    ax.legend(loc=\"lower right\")\n",
    "    for i, txt in enumerate(names):\n",
    "        ax.annotate(txt, (x[i] + 0.25, y[i]))\n",
    "    fig.gca().invert_yaxis()\n",
    "    if filepath:\n",
    "        fig.savefig(filepath, dpi=250)\n",
    "    else:\n",
    "        plt.show(fig)\n",
    "    plt.close(fig)\n",
    "\n",
    "comp_stats = get_comp_statistics(df)\n",
    "plot_comp_data(comp_stats, \"data/comp_data.png\")\n",
    "# plot_comp_data(comp_stats, None)\n",
    "ban_stats = get_ban_statistics(df)\n",
    "plot_ban_to_comp(ban_stats, \"data/ban_to_comp.png\")\n",
    "# plot_ban_to_comp(ban_stats, None)"
   ],
   "metadata": {
    "collapsed": false,
    "pycharm": {
     "name": "#%%\n"
    }
   }
  },
  {
   "cell_type": "code",
   "execution_count": 7,
   "outputs": [
    {
     "data": {
      "text/plain": "                 id        bid  \\\n3  4558135123513004  JoomkeJTm   \n\n                                                  正文  头条文章url  \\\n3  王者荣耀超话  KPL超话  #王者模拟战# #王者模拟战职业大师赛#·秋季赛·常规赛第四周...      NaN   \n\n                                             原始图片url 视频url  位置          日期  \\\n3  https://wx4.sinaimg.cn/large/005XNCJ1gy1gjj3p5...   NaN NaN  2020-10-09   \n\n        工具  点赞数  评论数  转发数                话题  @用户  \n3  搜狗高速浏览器    0    0    0  王者模拟战,王者模拟战职业大师赛  NaN  ",
      "text/html": "<div>\n<style scoped>\n    .dataframe tbody tr th:only-of-type {\n        vertical-align: middle;\n    }\n\n    .dataframe tbody tr th {\n        vertical-align: top;\n    }\n\n    .dataframe thead th {\n        text-align: right;\n    }\n</style>\n<table border=\"1\" class=\"dataframe\">\n  <thead>\n    <tr style=\"text-align: right;\">\n      <th></th>\n      <th>id</th>\n      <th>bid</th>\n      <th>正文</th>\n      <th>头条文章url</th>\n      <th>原始图片url</th>\n      <th>视频url</th>\n      <th>位置</th>\n      <th>日期</th>\n      <th>工具</th>\n      <th>点赞数</th>\n      <th>评论数</th>\n      <th>转发数</th>\n      <th>话题</th>\n      <th>@用户</th>\n    </tr>\n  </thead>\n  <tbody>\n    <tr>\n      <th>3</th>\n      <td>4558135123513004</td>\n      <td>JoomkeJTm</td>\n      <td>王者荣耀超话  KPL超话  #王者模拟战# #王者模拟战职业大师赛#·秋季赛·常规赛第四周...</td>\n      <td>NaN</td>\n      <td>https://wx4.sinaimg.cn/large/005XNCJ1gy1gjj3p5...</td>\n      <td>NaN</td>\n      <td>NaN</td>\n      <td>2020-10-09</td>\n      <td>搜狗高速浏览器</td>\n      <td>0</td>\n      <td>0</td>\n      <td>0</td>\n      <td>王者模拟战,王者模拟战职业大师赛</td>\n      <td>NaN</td>\n    </tr>\n  </tbody>\n</table>\n</div>"
     },
     "metadata": {},
     "output_type": "display_data"
    },
    {
     "name": "stdout",
     "output_type": "stream",
     "text": [
      "(25, 14)\n"
     ]
    }
   ],
   "source": [
    "weibo_csv_path = 'weibo_crawler/weibo/王者模拟战职业大师赛/5464294919.csv'\n",
    "weibo_df = pd.read_csv(weibo_csv_path)\n",
    "weibo_df = weibo_df.loc[weibo_df['正文'].str.contains('决赛圈')]\n",
    "display(weibo_df.head(1))\n",
    "print(weibo_df.shape)\n",
    "\n"
   ],
   "metadata": {
    "collapsed": false,
    "pycharm": {
     "name": "#%%\n"
    }
   }
  }
 ],
 "metadata": {
  "kernelspec": {
   "display_name": "Python 3",
   "language": "python",
   "name": "python3"
  },
  "language_info": {
   "codemirror_mode": {
    "name": "ipython",
    "version": 2
   },
   "file_extension": ".py",
   "mimetype": "text/x-python",
   "name": "python",
   "nbconvert_exporter": "python",
   "pygments_lexer": "ipython2",
   "version": "2.7.6"
  }
 },
 "nbformat": 4,
 "nbformat_minor": 0
}