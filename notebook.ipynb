{
 "cells": [
  {
   "cell_type": "code",
   "execution_count": 1,
   "outputs": [],
   "source": [
    "import pandas as pd\n",
    "from collections import Counter\n",
    "import re\n",
    "import matplotlib.pyplot as plt\n",
    "import numpy as np\n",
    "\n",
    "plt.rcParams['font.sans-serif'] = ['SimHei']\n",
    "plt.rcParams['axes.unicode_minus'] = False\n",
    "\n",
    "comp_color = {\n",
    "    '魔坦刺': '#858561',\n",
    "    '扶桑法刺': '#9e71ad',\n",
    "    '扶桑群雄刺': '#968795',\n",
    "    '扶桑群雄法刺': '#6603fc',\n",
    "    '扶桑刺': '#6603fc',\n",
    "    '魔种': '#a35956',\n",
    "    '扶桑男刺': '#bfae91',\n",
    "    '扶桑法': '#8000ff',\n",
    "\n",
    "    '七射': '#14ffa5',\n",
    "    '攻辅射': '#42d7f5',\n",
    "    '弟弟射': '#fceb30',\n",
    "    '攻辅蛋': '#ffac1c',\n",
    "\n",
    "    '九战': '#ff0000',\n",
    "    '稷下战': '#ff5e5e',\n",
    "    '轻战守约': '#ff8e5e',\n",
    "    '魏战': '#ff0084',\n",
    "\n",
    "    '蜀国': '#00cc18',\n",
    "\n",
    "    '法奶': '#0093f5',\n",
    "    }\n",
    "\n",
    "comp_to_brief = {\n",
    "    '扶桑法刺': '扶桑刺',\n",
    "    '扶桑群雄刺': '扶桑刺',\n",
    "    '扶桑群雄法刺': '扶桑刺',\n",
    "    '扶桑男刺': '扶桑刺',\n",
    "    '魔种(无天赋)' :'魔种',\n",
    "    '魔种(有天赋)' :'魔种',\n",
    "    '封神攻辅射': '攻辅射',\n",
    "    '吴国攻辅射': '攻辅射',\n",
    "    '稷下攻辅射': '攻辅射'\n",
    "}\n",
    "\n",
    "rank_to_score = [12, 9, 7, 5, 3, 2, 1, 0]\n",
    "\n",
    "class Config:\n",
    "    use_brief_comp = True"
   ],
   "metadata": {
    "collapsed": false,
    "pycharm": {
     "name": "#%%\n"
    }
   }
  },
  {
   "cell_type": "code",
   "execution_count": 2,
   "outputs": [
    {
     "data": {
      "text/plain": "   排名   俱乐部  选手 ban位   阵容     金钱     输出     胜     负   局数   分组  周数  游戏版本   详细阵容\n0   1   TES  阿虾    稷  魔坦刺  146.0  161.0  20.0   9.0  1.0  低分组   3  21-0    魔坦刺\n1   2  RNGM  俊仔    稷  扶桑刺   80.0  168.0  20.0   9.0  1.0  低分组   3  21-0   扶桑法刺\n2   3    VG  婷婷    卫  扶桑刺   71.0  115.0  17.0  11.0  1.0  低分组   3  21-0  扶桑群雄刺",
      "text/html": "<div>\n<style scoped>\n    .dataframe tbody tr th:only-of-type {\n        vertical-align: middle;\n    }\n\n    .dataframe tbody tr th {\n        vertical-align: top;\n    }\n\n    .dataframe thead th {\n        text-align: right;\n    }\n</style>\n<table border=\"1\" class=\"dataframe\">\n  <thead>\n    <tr style=\"text-align: right;\">\n      <th></th>\n      <th>排名</th>\n      <th>俱乐部</th>\n      <th>选手</th>\n      <th>ban位</th>\n      <th>阵容</th>\n      <th>金钱</th>\n      <th>输出</th>\n      <th>胜</th>\n      <th>负</th>\n      <th>局数</th>\n      <th>分组</th>\n      <th>周数</th>\n      <th>游戏版本</th>\n      <th>详细阵容</th>\n    </tr>\n  </thead>\n  <tbody>\n    <tr>\n      <th>0</th>\n      <td>1</td>\n      <td>TES</td>\n      <td>阿虾</td>\n      <td>稷</td>\n      <td>魔坦刺</td>\n      <td>146.0</td>\n      <td>161.0</td>\n      <td>20.0</td>\n      <td>9.0</td>\n      <td>1.0</td>\n      <td>低分组</td>\n      <td>3</td>\n      <td>21-0</td>\n      <td>魔坦刺</td>\n    </tr>\n    <tr>\n      <th>1</th>\n      <td>2</td>\n      <td>RNGM</td>\n      <td>俊仔</td>\n      <td>稷</td>\n      <td>扶桑刺</td>\n      <td>80.0</td>\n      <td>168.0</td>\n      <td>20.0</td>\n      <td>9.0</td>\n      <td>1.0</td>\n      <td>低分组</td>\n      <td>3</td>\n      <td>21-0</td>\n      <td>扶桑法刺</td>\n    </tr>\n    <tr>\n      <th>2</th>\n      <td>3</td>\n      <td>VG</td>\n      <td>婷婷</td>\n      <td>卫</td>\n      <td>扶桑刺</td>\n      <td>71.0</td>\n      <td>115.0</td>\n      <td>17.0</td>\n      <td>11.0</td>\n      <td>1.0</td>\n      <td>低分组</td>\n      <td>3</td>\n      <td>21-0</td>\n      <td>扶桑群雄刺</td>\n    </tr>\n  </tbody>\n</table>\n</div>"
     },
     "metadata": {},
     "output_type": "display_data"
    },
    {
     "data": {
      "text/plain": "     排名      俱乐部  选手 ban位   阵容    金钱     输出     胜     负   局数   分组  周数  游戏版本  \\\n157   6    WB.TS  仟谕    吴  稷下战  77.0  144.0  16.0   8.0  5.0  低分组   4  21-0   \n158   7  杭州LGD大鹅  阿霖    稷  扶桑刺  77.0   78.0  13.0  11.0  5.0  低分组   4  21-0   \n159   8  上海EDG.M  墨翟    魏   七射  52.0   31.0   7.0  14.0  5.0  低分组   4  21-0   \n\n      详细阵容  \n157    稷下战  \n158  扶桑群雄刺  \n159     七射  ",
      "text/html": "<div>\n<style scoped>\n    .dataframe tbody tr th:only-of-type {\n        vertical-align: middle;\n    }\n\n    .dataframe tbody tr th {\n        vertical-align: top;\n    }\n\n    .dataframe thead th {\n        text-align: right;\n    }\n</style>\n<table border=\"1\" class=\"dataframe\">\n  <thead>\n    <tr style=\"text-align: right;\">\n      <th></th>\n      <th>排名</th>\n      <th>俱乐部</th>\n      <th>选手</th>\n      <th>ban位</th>\n      <th>阵容</th>\n      <th>金钱</th>\n      <th>输出</th>\n      <th>胜</th>\n      <th>负</th>\n      <th>局数</th>\n      <th>分组</th>\n      <th>周数</th>\n      <th>游戏版本</th>\n      <th>详细阵容</th>\n    </tr>\n  </thead>\n  <tbody>\n    <tr>\n      <th>157</th>\n      <td>6</td>\n      <td>WB.TS</td>\n      <td>仟谕</td>\n      <td>吴</td>\n      <td>稷下战</td>\n      <td>77.0</td>\n      <td>144.0</td>\n      <td>16.0</td>\n      <td>8.0</td>\n      <td>5.0</td>\n      <td>低分组</td>\n      <td>4</td>\n      <td>21-0</td>\n      <td>稷下战</td>\n    </tr>\n    <tr>\n      <th>158</th>\n      <td>7</td>\n      <td>杭州LGD大鹅</td>\n      <td>阿霖</td>\n      <td>稷</td>\n      <td>扶桑刺</td>\n      <td>77.0</td>\n      <td>78.0</td>\n      <td>13.0</td>\n      <td>11.0</td>\n      <td>5.0</td>\n      <td>低分组</td>\n      <td>4</td>\n      <td>21-0</td>\n      <td>扶桑群雄刺</td>\n    </tr>\n    <tr>\n      <th>159</th>\n      <td>8</td>\n      <td>上海EDG.M</td>\n      <td>墨翟</td>\n      <td>魏</td>\n      <td>七射</td>\n      <td>52.0</td>\n      <td>31.0</td>\n      <td>7.0</td>\n      <td>14.0</td>\n      <td>5.0</td>\n      <td>低分组</td>\n      <td>4</td>\n      <td>21-0</td>\n      <td>七射</td>\n    </tr>\n  </tbody>\n</table>\n</div>"
     },
     "metadata": {},
     "output_type": "display_data"
    }
   ],
   "source": [
    "df = pd.read_excel('result.xlsx')\n",
    "pd.set_option('display.max_columns', None)\n",
    "df = df.dropna()\n",
    "\n",
    "if Config.use_brief_comp:\n",
    "    df['详细阵容'] = df['阵容']\n",
    "    df['阵容'] = df['详细阵容'].apply(lambda x: comp_to_brief.get(x, x))\n",
    "display(df.head(3))\n",
    "display(df.tail(3))"
   ],
   "metadata": {
    "collapsed": false,
    "pycharm": {
     "name": "#%%\n"
    }
   }
  },
  {
   "cell_type": "code",
   "execution_count": 3,
   "outputs": [
    {
     "data": {
      "text/plain": "          平均排名     排名方差  出场次数  \\\n攻辅蛋   2.000000        -     1   \n弟弟射   3.428571  4.72527    14   \n轻战守约  3.500000     12.5     2   \n扶桑法   4.000000        -     1   \n魏战    4.000000        -     1   \n蜀国    4.285714  6.57143     7   \n扶桑刺   4.333333  4.95455    45   \n稷下战   4.406250  4.89415    32   \n攻辅射   4.444444  7.43791    18   \n魔坦刺   4.800000      7.7     5   \n魔种    5.125000  3.83929     8   \n七射    5.384615  5.08974    13   \n法奶    5.636364  5.05455    11   \n九战    6.000000        2     2   \n\n                                                   禁用统计  \n攻辅蛋                                          [(蜀, 1.0)]  \n弟弟射                                          [(蜀, 1.0)]  \n轻战守约                               [(安, 0.5), (吴, 0.5)]  \n扶桑法                                          [(卫, 1.0)]  \n魏战                                           [(安, 1.0)]  \n蜀国    [(魏, 0.42857142857142855), (安, 0.2857142857142...  \n扶桑刺   [(卫, 0.4), (稷, 0.35555555555555557), (魏, 0.177...  \n稷下战   [(安, 0.59375), (魏, 0.1875), (蜀, 0.125), (吴, 0....  \n攻辅射   [(蜀, 0.3888888888888889), (卫, 0.33333333333333...  \n魔坦刺                                [(稷, 0.8), (神, 0.2)]  \n魔种                             [(稷, 0.875), (安, 0.125)]  \n七射    [(魏, 0.6923076923076923), (尧, 0.23076923076923...  \n法奶    [(卫, 0.6363636363636364), (蜀, 0.36363636363636...  \n九战                                           [(安, 1.0)]  ",
      "text/html": "<div>\n<style scoped>\n    .dataframe tbody tr th:only-of-type {\n        vertical-align: middle;\n    }\n\n    .dataframe tbody tr th {\n        vertical-align: top;\n    }\n\n    .dataframe thead th {\n        text-align: right;\n    }\n</style>\n<table border=\"1\" class=\"dataframe\">\n  <thead>\n    <tr style=\"text-align: right;\">\n      <th></th>\n      <th>平均排名</th>\n      <th>排名方差</th>\n      <th>出场次数</th>\n      <th>禁用统计</th>\n    </tr>\n  </thead>\n  <tbody>\n    <tr>\n      <th>攻辅蛋</th>\n      <td>2.000000</td>\n      <td>-</td>\n      <td>1</td>\n      <td>[(蜀, 1.0)]</td>\n    </tr>\n    <tr>\n      <th>弟弟射</th>\n      <td>3.428571</td>\n      <td>4.72527</td>\n      <td>14</td>\n      <td>[(蜀, 1.0)]</td>\n    </tr>\n    <tr>\n      <th>轻战守约</th>\n      <td>3.500000</td>\n      <td>12.5</td>\n      <td>2</td>\n      <td>[(安, 0.5), (吴, 0.5)]</td>\n    </tr>\n    <tr>\n      <th>扶桑法</th>\n      <td>4.000000</td>\n      <td>-</td>\n      <td>1</td>\n      <td>[(卫, 1.0)]</td>\n    </tr>\n    <tr>\n      <th>魏战</th>\n      <td>4.000000</td>\n      <td>-</td>\n      <td>1</td>\n      <td>[(安, 1.0)]</td>\n    </tr>\n    <tr>\n      <th>蜀国</th>\n      <td>4.285714</td>\n      <td>6.57143</td>\n      <td>7</td>\n      <td>[(魏, 0.42857142857142855), (安, 0.2857142857142...</td>\n    </tr>\n    <tr>\n      <th>扶桑刺</th>\n      <td>4.333333</td>\n      <td>4.95455</td>\n      <td>45</td>\n      <td>[(卫, 0.4), (稷, 0.35555555555555557), (魏, 0.177...</td>\n    </tr>\n    <tr>\n      <th>稷下战</th>\n      <td>4.406250</td>\n      <td>4.89415</td>\n      <td>32</td>\n      <td>[(安, 0.59375), (魏, 0.1875), (蜀, 0.125), (吴, 0....</td>\n    </tr>\n    <tr>\n      <th>攻辅射</th>\n      <td>4.444444</td>\n      <td>7.43791</td>\n      <td>18</td>\n      <td>[(蜀, 0.3888888888888889), (卫, 0.33333333333333...</td>\n    </tr>\n    <tr>\n      <th>魔坦刺</th>\n      <td>4.800000</td>\n      <td>7.7</td>\n      <td>5</td>\n      <td>[(稷, 0.8), (神, 0.2)]</td>\n    </tr>\n    <tr>\n      <th>魔种</th>\n      <td>5.125000</td>\n      <td>3.83929</td>\n      <td>8</td>\n      <td>[(稷, 0.875), (安, 0.125)]</td>\n    </tr>\n    <tr>\n      <th>七射</th>\n      <td>5.384615</td>\n      <td>5.08974</td>\n      <td>13</td>\n      <td>[(魏, 0.6923076923076923), (尧, 0.23076923076923...</td>\n    </tr>\n    <tr>\n      <th>法奶</th>\n      <td>5.636364</td>\n      <td>5.05455</td>\n      <td>11</td>\n      <td>[(卫, 0.6363636363636364), (蜀, 0.36363636363636...</td>\n    </tr>\n    <tr>\n      <th>九战</th>\n      <td>6.000000</td>\n      <td>2</td>\n      <td>2</td>\n      <td>[(安, 1.0)]</td>\n    </tr>\n  </tbody>\n</table>\n</div>"
     },
     "metadata": {},
     "output_type": "display_data"
    },
    {
     "data": {
      "text/plain": "       平均排名      排名方差  出场次数                                               阵容统计\n蜀  3.875000   5.14516    32  [(弟弟射, 0.4375), (攻辅射, 0.21875), (法奶, 0.125), (...\n安  3.888889   5.48718    27  [(稷下战, 0.7037037037037037), (九战, 0.07407407407...\n卫  4.656250   4.87802    32  [(扶桑刺, 0.5625), (法奶, 0.21875), (攻辅射, 0.1875), ...\n魏  4.666667   4.91954    30  [(七射, 0.3), (扶桑刺, 0.26666666666666666), (稷下战, ...\n稷  4.714286   5.84127    28  [(扶桑刺, 0.5714285714285714), (魔种, 0.25), (魔坦刺, ...\n吴  6.000000  0.666667     4             [(稷下战, 0.5), (轻战守约, 0.25), (蜀国, 0.25)]\n神  6.000000         -     1                                       [(魔坦刺, 1.0)]\n尧  6.666667   3.86667     6  [(七射, 0.5), (扶桑刺, 0.16666666666666666), (攻辅射, ...",
      "text/html": "<div>\n<style scoped>\n    .dataframe tbody tr th:only-of-type {\n        vertical-align: middle;\n    }\n\n    .dataframe tbody tr th {\n        vertical-align: top;\n    }\n\n    .dataframe thead th {\n        text-align: right;\n    }\n</style>\n<table border=\"1\" class=\"dataframe\">\n  <thead>\n    <tr style=\"text-align: right;\">\n      <th></th>\n      <th>平均排名</th>\n      <th>排名方差</th>\n      <th>出场次数</th>\n      <th>阵容统计</th>\n    </tr>\n  </thead>\n  <tbody>\n    <tr>\n      <th>蜀</th>\n      <td>3.875000</td>\n      <td>5.14516</td>\n      <td>32</td>\n      <td>[(弟弟射, 0.4375), (攻辅射, 0.21875), (法奶, 0.125), (...</td>\n    </tr>\n    <tr>\n      <th>安</th>\n      <td>3.888889</td>\n      <td>5.48718</td>\n      <td>27</td>\n      <td>[(稷下战, 0.7037037037037037), (九战, 0.07407407407...</td>\n    </tr>\n    <tr>\n      <th>卫</th>\n      <td>4.656250</td>\n      <td>4.87802</td>\n      <td>32</td>\n      <td>[(扶桑刺, 0.5625), (法奶, 0.21875), (攻辅射, 0.1875), ...</td>\n    </tr>\n    <tr>\n      <th>魏</th>\n      <td>4.666667</td>\n      <td>4.91954</td>\n      <td>30</td>\n      <td>[(七射, 0.3), (扶桑刺, 0.26666666666666666), (稷下战, ...</td>\n    </tr>\n    <tr>\n      <th>稷</th>\n      <td>4.714286</td>\n      <td>5.84127</td>\n      <td>28</td>\n      <td>[(扶桑刺, 0.5714285714285714), (魔种, 0.25), (魔坦刺, ...</td>\n    </tr>\n    <tr>\n      <th>吴</th>\n      <td>6.000000</td>\n      <td>0.666667</td>\n      <td>4</td>\n      <td>[(稷下战, 0.5), (轻战守约, 0.25), (蜀国, 0.25)]</td>\n    </tr>\n    <tr>\n      <th>神</th>\n      <td>6.000000</td>\n      <td>-</td>\n      <td>1</td>\n      <td>[(魔坦刺, 1.0)]</td>\n    </tr>\n    <tr>\n      <th>尧</th>\n      <td>6.666667</td>\n      <td>3.86667</td>\n      <td>6</td>\n      <td>[(七射, 0.5), (扶桑刺, 0.16666666666666666), (攻辅射, ...</td>\n    </tr>\n  </tbody>\n</table>\n</div>"
     },
     "metadata": {},
     "output_type": "display_data"
    },
    {
     "data": {
      "text/plain": "             平均排名       排名方差  出场次数\n西安WE          2.4   2.300000     5\nNMG           3.0   2.000000     5\nCW            3.2   8.700000     5\nKSSC          3.8   5.700000     5\nRNGM          4.0   6.500000     5\nACT           4.2   3.200000     5\nKS.YTG        4.2   6.200000     5\nLX蓝翔          4.2   6.700000     5\nMQ            4.2   8.200000     5\nDYG           4.4   7.300000     5\n成都AG超玩会       4.4   9.300000     5\nVG            4.4   3.800000     5\nXQ            4.4   6.800000     5\n佛山GK          4.5   5.833333    10\n杭州LGD大鹅       4.6   4.711111    10\n广州TTG         4.6   3.300000     5\n重庆QGScholar   4.6  12.300000     5\nRSG           4.6   5.300000     5\nWB.TS         4.7   5.566667    10\n武汉eStar       4.8   5.955556    10\nTES           5.0   5.111111    10\nXROCK         5.2   4.844444    10\nRW侠           5.2   4.400000    10\n上海EDG.M       5.7   5.122222    10",
      "text/html": "<div>\n<style scoped>\n    .dataframe tbody tr th:only-of-type {\n        vertical-align: middle;\n    }\n\n    .dataframe tbody tr th {\n        vertical-align: top;\n    }\n\n    .dataframe thead th {\n        text-align: right;\n    }\n</style>\n<table border=\"1\" class=\"dataframe\">\n  <thead>\n    <tr style=\"text-align: right;\">\n      <th></th>\n      <th>平均排名</th>\n      <th>排名方差</th>\n      <th>出场次数</th>\n    </tr>\n  </thead>\n  <tbody>\n    <tr>\n      <th>西安WE</th>\n      <td>2.4</td>\n      <td>2.300000</td>\n      <td>5</td>\n    </tr>\n    <tr>\n      <th>NMG</th>\n      <td>3.0</td>\n      <td>2.000000</td>\n      <td>5</td>\n    </tr>\n    <tr>\n      <th>CW</th>\n      <td>3.2</td>\n      <td>8.700000</td>\n      <td>5</td>\n    </tr>\n    <tr>\n      <th>KSSC</th>\n      <td>3.8</td>\n      <td>5.700000</td>\n      <td>5</td>\n    </tr>\n    <tr>\n      <th>RNGM</th>\n      <td>4.0</td>\n      <td>6.500000</td>\n      <td>5</td>\n    </tr>\n    <tr>\n      <th>ACT</th>\n      <td>4.2</td>\n      <td>3.200000</td>\n      <td>5</td>\n    </tr>\n    <tr>\n      <th>KS.YTG</th>\n      <td>4.2</td>\n      <td>6.200000</td>\n      <td>5</td>\n    </tr>\n    <tr>\n      <th>LX蓝翔</th>\n      <td>4.2</td>\n      <td>6.700000</td>\n      <td>5</td>\n    </tr>\n    <tr>\n      <th>MQ</th>\n      <td>4.2</td>\n      <td>8.200000</td>\n      <td>5</td>\n    </tr>\n    <tr>\n      <th>DYG</th>\n      <td>4.4</td>\n      <td>7.300000</td>\n      <td>5</td>\n    </tr>\n    <tr>\n      <th>成都AG超玩会</th>\n      <td>4.4</td>\n      <td>9.300000</td>\n      <td>5</td>\n    </tr>\n    <tr>\n      <th>VG</th>\n      <td>4.4</td>\n      <td>3.800000</td>\n      <td>5</td>\n    </tr>\n    <tr>\n      <th>XQ</th>\n      <td>4.4</td>\n      <td>6.800000</td>\n      <td>5</td>\n    </tr>\n    <tr>\n      <th>佛山GK</th>\n      <td>4.5</td>\n      <td>5.833333</td>\n      <td>10</td>\n    </tr>\n    <tr>\n      <th>杭州LGD大鹅</th>\n      <td>4.6</td>\n      <td>4.711111</td>\n      <td>10</td>\n    </tr>\n    <tr>\n      <th>广州TTG</th>\n      <td>4.6</td>\n      <td>3.300000</td>\n      <td>5</td>\n    </tr>\n    <tr>\n      <th>重庆QGScholar</th>\n      <td>4.6</td>\n      <td>12.300000</td>\n      <td>5</td>\n    </tr>\n    <tr>\n      <th>RSG</th>\n      <td>4.6</td>\n      <td>5.300000</td>\n      <td>5</td>\n    </tr>\n    <tr>\n      <th>WB.TS</th>\n      <td>4.7</td>\n      <td>5.566667</td>\n      <td>10</td>\n    </tr>\n    <tr>\n      <th>武汉eStar</th>\n      <td>4.8</td>\n      <td>5.955556</td>\n      <td>10</td>\n    </tr>\n    <tr>\n      <th>TES</th>\n      <td>5.0</td>\n      <td>5.111111</td>\n      <td>10</td>\n    </tr>\n    <tr>\n      <th>XROCK</th>\n      <td>5.2</td>\n      <td>4.844444</td>\n      <td>10</td>\n    </tr>\n    <tr>\n      <th>RW侠</th>\n      <td>5.2</td>\n      <td>4.400000</td>\n      <td>10</td>\n    </tr>\n    <tr>\n      <th>上海EDG.M</th>\n      <td>5.7</td>\n      <td>5.122222</td>\n      <td>10</td>\n    </tr>\n  </tbody>\n</table>\n</div>"
     },
     "metadata": {},
     "output_type": "display_data"
    },
    {
     "data": {
      "text/plain": "           登顶率  登顶次数  出场次数\n阵容                        \n轻战守约  0.500000     1     2\n攻辅射   0.222222     4    18\n弟弟射   0.214286     3    14\n魔坦刺   0.200000     1     5\n蜀国    0.142857     1     7\n稷下战   0.125000     4    32\n扶桑刺   0.111111     5    45\n法奶    0.090909     1    11\n七射    0.000000     0    13\n九战    0.000000     0     2\n扶桑法   0.000000     0     1\n攻辅蛋   0.000000     0     1\n魏战    0.000000     0     1\n魔种    0.000000     0     8",
      "text/html": "<div>\n<style scoped>\n    .dataframe tbody tr th:only-of-type {\n        vertical-align: middle;\n    }\n\n    .dataframe tbody tr th {\n        vertical-align: top;\n    }\n\n    .dataframe thead th {\n        text-align: right;\n    }\n</style>\n<table border=\"1\" class=\"dataframe\">\n  <thead>\n    <tr style=\"text-align: right;\">\n      <th></th>\n      <th>登顶率</th>\n      <th>登顶次数</th>\n      <th>出场次数</th>\n    </tr>\n    <tr>\n      <th>阵容</th>\n      <th></th>\n      <th></th>\n      <th></th>\n    </tr>\n  </thead>\n  <tbody>\n    <tr>\n      <th>轻战守约</th>\n      <td>0.500000</td>\n      <td>1</td>\n      <td>2</td>\n    </tr>\n    <tr>\n      <th>攻辅射</th>\n      <td>0.222222</td>\n      <td>4</td>\n      <td>18</td>\n    </tr>\n    <tr>\n      <th>弟弟射</th>\n      <td>0.214286</td>\n      <td>3</td>\n      <td>14</td>\n    </tr>\n    <tr>\n      <th>魔坦刺</th>\n      <td>0.200000</td>\n      <td>1</td>\n      <td>5</td>\n    </tr>\n    <tr>\n      <th>蜀国</th>\n      <td>0.142857</td>\n      <td>1</td>\n      <td>7</td>\n    </tr>\n    <tr>\n      <th>稷下战</th>\n      <td>0.125000</td>\n      <td>4</td>\n      <td>32</td>\n    </tr>\n    <tr>\n      <th>扶桑刺</th>\n      <td>0.111111</td>\n      <td>5</td>\n      <td>45</td>\n    </tr>\n    <tr>\n      <th>法奶</th>\n      <td>0.090909</td>\n      <td>1</td>\n      <td>11</td>\n    </tr>\n    <tr>\n      <th>七射</th>\n      <td>0.000000</td>\n      <td>0</td>\n      <td>13</td>\n    </tr>\n    <tr>\n      <th>九战</th>\n      <td>0.000000</td>\n      <td>0</td>\n      <td>2</td>\n    </tr>\n    <tr>\n      <th>扶桑法</th>\n      <td>0.000000</td>\n      <td>0</td>\n      <td>1</td>\n    </tr>\n    <tr>\n      <th>攻辅蛋</th>\n      <td>0.000000</td>\n      <td>0</td>\n      <td>1</td>\n    </tr>\n    <tr>\n      <th>魏战</th>\n      <td>0.000000</td>\n      <td>0</td>\n      <td>1</td>\n    </tr>\n    <tr>\n      <th>魔种</th>\n      <td>0.000000</td>\n      <td>0</td>\n      <td>8</td>\n    </tr>\n  </tbody>\n</table>\n</div>"
     },
     "metadata": {},
     "output_type": "display_data"
    },
    {
     "data": {
      "text/plain": "           前三率  前三次数  出场次数\n阵容                        \n攻辅蛋   1.000000     1     1\n弟弟射   0.571429     8    14\n轻战守约  0.500000     1     2\n攻辅射   0.444444     8    18\n蜀国    0.428571     3     7\n稷下战   0.406250    13    32\n魔坦刺   0.400000     2     5\n扶桑刺   0.377778    17    45\n七射    0.307692     4    13\n法奶    0.181818     2    11\n魔种    0.125000     1     8\n九战    0.000000     0     2\n扶桑法   0.000000     0     1\n魏战    0.000000     0     1",
      "text/html": "<div>\n<style scoped>\n    .dataframe tbody tr th:only-of-type {\n        vertical-align: middle;\n    }\n\n    .dataframe tbody tr th {\n        vertical-align: top;\n    }\n\n    .dataframe thead th {\n        text-align: right;\n    }\n</style>\n<table border=\"1\" class=\"dataframe\">\n  <thead>\n    <tr style=\"text-align: right;\">\n      <th></th>\n      <th>前三率</th>\n      <th>前三次数</th>\n      <th>出场次数</th>\n    </tr>\n    <tr>\n      <th>阵容</th>\n      <th></th>\n      <th></th>\n      <th></th>\n    </tr>\n  </thead>\n  <tbody>\n    <tr>\n      <th>攻辅蛋</th>\n      <td>1.000000</td>\n      <td>1</td>\n      <td>1</td>\n    </tr>\n    <tr>\n      <th>弟弟射</th>\n      <td>0.571429</td>\n      <td>8</td>\n      <td>14</td>\n    </tr>\n    <tr>\n      <th>轻战守约</th>\n      <td>0.500000</td>\n      <td>1</td>\n      <td>2</td>\n    </tr>\n    <tr>\n      <th>攻辅射</th>\n      <td>0.444444</td>\n      <td>8</td>\n      <td>18</td>\n    </tr>\n    <tr>\n      <th>蜀国</th>\n      <td>0.428571</td>\n      <td>3</td>\n      <td>7</td>\n    </tr>\n    <tr>\n      <th>稷下战</th>\n      <td>0.406250</td>\n      <td>13</td>\n      <td>32</td>\n    </tr>\n    <tr>\n      <th>魔坦刺</th>\n      <td>0.400000</td>\n      <td>2</td>\n      <td>5</td>\n    </tr>\n    <tr>\n      <th>扶桑刺</th>\n      <td>0.377778</td>\n      <td>17</td>\n      <td>45</td>\n    </tr>\n    <tr>\n      <th>七射</th>\n      <td>0.307692</td>\n      <td>4</td>\n      <td>13</td>\n    </tr>\n    <tr>\n      <th>法奶</th>\n      <td>0.181818</td>\n      <td>2</td>\n      <td>11</td>\n    </tr>\n    <tr>\n      <th>魔种</th>\n      <td>0.125000</td>\n      <td>1</td>\n      <td>8</td>\n    </tr>\n    <tr>\n      <th>九战</th>\n      <td>0.000000</td>\n      <td>0</td>\n      <td>2</td>\n    </tr>\n    <tr>\n      <th>扶桑法</th>\n      <td>0.000000</td>\n      <td>0</td>\n      <td>1</td>\n    </tr>\n    <tr>\n      <th>魏战</th>\n      <td>0.000000</td>\n      <td>0</td>\n      <td>1</td>\n    </tr>\n  </tbody>\n</table>\n</div>"
     },
     "metadata": {},
     "output_type": "display_data"
    }
   ],
   "source": [
    "def get_comp_statistics(df):\n",
    "    def get_most_ban(x):\n",
    "        c = Counter(x['ban位'])\n",
    "        return [(i, c[i] / len(x)) for i, count in c.most_common()]\n",
    "\n",
    "    groups = df.groupby('阵容')\n",
    "    mean_rank = groups['排名'].mean().sort_values()\n",
    "    var_rank = groups['排名'].var()\n",
    "    sum_occur = groups['排名'].count()\n",
    "    most_ban = groups.apply(get_most_ban)\n",
    "    res = pd.concat([mean_rank, var_rank, sum_occur, most_ban], axis=1)\n",
    "    res.columns = ('平均排名', '排名方差', '出场次数', '禁用统计')\n",
    "    res = res.fillna('-')\n",
    "    return res\n",
    "\n",
    "def get_ban_statistics(df):\n",
    "    def get_most_comp(x):\n",
    "        c = Counter(x['阵容'])\n",
    "        return [(i, c[i] / len(x)) for i, count in c.most_common()]\n",
    "    groups = df.groupby('ban位')\n",
    "    mean_rank = groups['排名'].mean().sort_values()\n",
    "    var_rank = groups['排名'].var()\n",
    "    sum_occur = groups['排名'].count()\n",
    "    most_comp = groups.apply(get_most_comp)\n",
    "    res = pd.concat([mean_rank, var_rank, sum_occur, most_comp], axis=1)\n",
    "    res.columns = ('平均排名', '排名方差', '出场次数', '阵容统计')\n",
    "    res = res.fillna('-')\n",
    "    return res\n",
    "\n",
    "def get_club_statistics(df):\n",
    "    groups = df.groupby('俱乐部')\n",
    "    mean_rank = groups['排名'].mean().sort_values()\n",
    "    var_rank = groups['排名'].var()\n",
    "    sum_occur = groups['排名'].count()\n",
    "    res = pd.concat([mean_rank, var_rank, sum_occur], axis=1)\n",
    "    res.columns = ('平均排名', '排名方差', '出场次数')\n",
    "    res = res.fillna('-')\n",
    "    return res\n",
    "\n",
    "def get_top1_comp_statistics(df):\n",
    "    groups = df.groupby('阵容')['排名']\n",
    "    occur_cnt = groups.count()\n",
    "    top1_cnt = groups.apply(lambda x: (x == 1).sum())\n",
    "    top1_rate = top1_cnt / occur_cnt\n",
    "    res = pd.concat([top1_rate, top1_cnt, occur_cnt], axis=1)\n",
    "    res.columns = ('登顶率', '登顶次数', '出场次数')\n",
    "    res = res.sort_values(['登顶率', '登顶次数'], ascending=False)\n",
    "    return res\n",
    "\n",
    "def get_top3_comp_statistics(df):\n",
    "    groups = df.groupby('阵容')['排名']\n",
    "    occur_cnt = groups.count()\n",
    "    top3_cnt = groups.apply(lambda x: (x <= 3).sum())\n",
    "    top3_rate = top3_cnt / occur_cnt\n",
    "    res = pd.concat([top3_rate, top3_cnt, occur_cnt], axis=1)\n",
    "    res.columns = ('前三率', '前三次数', '出场次数')\n",
    "    res = res.sort_values(['前三率', '前三次数'], ascending=False)\n",
    "    return res\n",
    "\n",
    "display(get_comp_statistics(df))\n",
    "display(get_ban_statistics(df))\n",
    "display(get_club_statistics(df))\n",
    "display(get_top1_comp_statistics(df))\n",
    "display(get_top3_comp_statistics(df))"
   ],
   "metadata": {
    "collapsed": false,
    "pycharm": {
     "name": "#%%\n"
    }
   }
  },
  {
   "cell_type": "code",
   "execution_count": 5,
   "outputs": [],
   "source": [
    "def plot_ban_to_comp(ban_stats, filepath=None):\n",
    "    fig, axs = plt.subplots(1, len(ban_stats), figsize=(30, 4))\n",
    "    for ax, ban in zip(axs, ban_stats.itertuples()):\n",
    "        labels, ys = [m[0] for m in ban[4]], [m[1] for m in ban[4]]\n",
    "        colors = [comp_color[re.sub(r'\\([^)]*\\)', '', c).strip()] for c in labels]\n",
    "        explode = [0.015] * len(ys)\n",
    "        def value(val):\n",
    "            return f'{val:.2f}%'\n",
    "        ax.pie(ys, labels=labels, colors=colors, explode=explode, autopct=value, shadow=False, pctdistance=0.6)\n",
    "        ax.set_title(f'{ban[0]} (排名{ban[1]:.2f},出场{ban[3]})', fontsize=15, x=0.5, y=1.01)\n",
    "\n",
    "    fig.tight_layout()\n",
    "    if filepath:\n",
    "        fig.savefig(filepath, dpi=350)\n",
    "    else:\n",
    "        plt.show(fig)\n",
    "    plt.close(fig)\n",
    "\n",
    "def plot_comp_data(comp_stats, filepath=None):\n",
    "    fig, ax = plt.subplots(figsize=(6, 4))\n",
    "    y = comp_stats['平均排名']\n",
    "    x = comp_stats['出场次数']\n",
    "    names = comp_stats.index\n",
    "    ax.scatter(x, y)\n",
    "    ax.set_title('阵容数据')\n",
    "    ax.set_ylabel('平均排名')\n",
    "    ax.set_xlabel('出场次数')\n",
    "    ax.set_xlim(left=0, right=max(x) + 1)\n",
    "    ax.set_ylim(bottom=1, top=8)\n",
    "    ax.hlines(y=4.5, xmin=0, xmax=max(x) + 1, colors='orange', linestyles='--', lw=2, label='理论均值')\n",
    "    ax.legend(loc=\"lower right\")\n",
    "    for i, txt in enumerate(names):\n",
    "        ax.annotate(txt, (x[i] + 0.25, y[i]))\n",
    "    fig.gca().invert_yaxis()\n",
    "    if filepath:\n",
    "        fig.savefig(filepath, dpi=350)\n",
    "    else:\n",
    "        plt.show(fig)\n",
    "    plt.close(fig)\n",
    "\n",
    "comp_stats = get_comp_statistics(df)\n",
    "plot_comp_data(comp_stats, \"data/comp_data.png\")\n",
    "# plot_comp_data(comp_stats, None)\n",
    "ban_stats = get_ban_statistics(df)\n",
    "plot_ban_to_comp(ban_stats, \"data/ban_to_comp.png\")\n",
    "# plot_ban_to_comp(ban_stats, None)"
   ],
   "metadata": {
    "collapsed": false,
    "pycharm": {
     "name": "#%%\n"
    }
   }
  }
 ],
 "metadata": {
  "kernelspec": {
   "display_name": "Python 3",
   "language": "python",
   "name": "python3"
  },
  "language_info": {
   "codemirror_mode": {
    "name": "ipython",
    "version": 2
   },
   "file_extension": ".py",
   "mimetype": "text/x-python",
   "name": "python",
   "nbconvert_exporter": "python",
   "pygments_lexer": "ipython2",
   "version": "2.7.6"
  }
 },
 "nbformat": 4,
 "nbformat_minor": 0
}